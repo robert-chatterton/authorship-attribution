{
 "cells": [
  {
   "cell_type": "markdown",
   "metadata": {},
   "source": [
    "# Robert Chatterton\n",
    "\n",
    "#### DS 4400 Machine Learning and Data Mining I Final Project\n",
    "\n",
    "<hr />\n",
    "\n",
    "## Authorship Attribution on Classical Works and More"
   ]
  },
  {
   "cell_type": "markdown",
   "metadata": {},
   "source": [
    "### Outline       \n",
    "\n",
    "- Models:\n",
    "    - SVM\n",
    "    - Random Forest\n",
    "    - Naive Bayes\n",
    "    - CNN"
   ]
  },
  {
   "cell_type": "markdown",
   "metadata": {},
   "source": [
    "# Data Cleaning\n",
    "\n",
    "- Clean and pull data\n",
    "    - Read in texts from NLTK\n",
    "    - Choose specific ones (5 authors?)"
   ]
  },
  {
   "cell_type": "code",
   "execution_count": 104,
   "metadata": {},
   "outputs": [
    {
     "name": "stderr",
     "output_type": "stream",
     "text": [
      "[nltk_data] Downloading package gutenberg to /home/robbie/nltk_data...\n",
      "[nltk_data]   Package gutenberg is already up-to-date!\n",
      "[nltk_data] Downloading package punkt to /home/robbie/nltk_data...\n",
      "[nltk_data]   Package punkt is already up-to-date!\n"
     ]
    },
    {
     "data": {
      "text/plain": [
       "True"
      ]
     },
     "execution_count": 104,
     "metadata": {},
     "output_type": "execute_result"
    }
   ],
   "source": [
    "# cleaning imports\n",
    "import numpy as np\n",
    "import nltk\n",
    "import random\n",
    "import pandas as pd\n",
    "\n",
    "RANDOM_SEED = 3\n",
    "np.random.seed(RANDOM_SEED)\n",
    "random.seed(RANDOM_SEED)\n",
    "\n",
    "nltk.download('gutenberg')\n",
    "nltk.download('punkt')"
   ]
  },
  {
   "cell_type": "code",
   "execution_count": 105,
   "metadata": {},
   "outputs": [
    {
     "name": "stdout",
     "output_type": "stream",
     "text": [
      "austen-persuasion.txt has 3657 sentences\n",
      "austen-sense.txt has 5195 sentences\n",
      "chesterton-ball.txt has 4636 sentences\n",
      "chesterton-brown.txt has 3727 sentences\n",
      "chesterton-thursday.txt has 3570 sentences\n",
      "shakespeare-caesar.txt has 1592 sentences\n",
      "shakespeare-hamlet.txt has 2355 sentences\n",
      "shakespeare-macbeth.txt has 1465 sentences\n",
      "austen has 8852 sentences total\n",
      "chesterson has 11933 sentences total\n",
      "shakespeare has 5412 sentences total\n"
     ]
    }
   ],
   "source": [
    "minimum_sentence_length = 0\n",
    "\n",
    "def create_sentence_list(work):\n",
    "    raw = nltk.corpus.gutenberg.raw(work)\n",
    "    \n",
    "    # fix up text\n",
    "    text = raw.replace('.\"', '\".').replace('?\"', '\"?').replace('!\"', '\"!')\n",
    "    text = text.replace('--', ' ').replace('. . .', '').replace('_', '')\n",
    "    text = text.replace('\\n', ' ').replace('  ', ' ').replace('  ', ' ')\n",
    "\n",
    "    # tokenize into sentences\n",
    "    sents = nltk.tokenize.sent_tokenize(text)\n",
    "\n",
    "    # remove short sentences\n",
    "    sents = [sent for sent in sents if len(sent) > minimum_sentence_length]\n",
    "    print(f'{work} has {len(sents)} sentences')\n",
    "    return sents\n",
    "\n",
    "# authors and works to investigate\n",
    "austen = create_sentence_list('austen-persuasion.txt') + create_sentence_list('austen-sense.txt')\n",
    "chesterson = create_sentence_list('chesterton-ball.txt') + create_sentence_list('chesterton-brown.txt') + create_sentence_list('chesterton-thursday.txt')\n",
    "shakespeare = create_sentence_list('shakespeare-caesar.txt') + create_sentence_list('shakespeare-hamlet.txt') + create_sentence_list('shakespeare-macbeth.txt')\n",
    "\n",
    "works = {\n",
    "    'austen': austen, \n",
    "    'chesterson': chesterson, \n",
    "    'shakespeare': shakespeare\n",
    "}\n",
    "\n",
    "for a, w in works.items():\n",
    "    print(f'{a} has {len(w)} sentences total')"
   ]
  },
  {
   "cell_type": "markdown",
   "metadata": {},
   "source": [
    "Choose random sentences for training"
   ]
  },
  {
   "cell_type": "code",
   "execution_count": 106,
   "metadata": {},
   "outputs": [
    {
     "data": {
      "text/html": [
       "<div>\n",
       "<style scoped>\n",
       "    .dataframe tbody tr th:only-of-type {\n",
       "        vertical-align: middle;\n",
       "    }\n",
       "\n",
       "    .dataframe tbody tr th {\n",
       "        vertical-align: top;\n",
       "    }\n",
       "\n",
       "    .dataframe thead th {\n",
       "        text-align: right;\n",
       "    }\n",
       "</style>\n",
       "<table border=\"1\" class=\"dataframe\">\n",
       "  <thead>\n",
       "    <tr style=\"text-align: right;\">\n",
       "      <th></th>\n",
       "      <th>sentence</th>\n",
       "      <th>author</th>\n",
       "    </tr>\n",
       "  </thead>\n",
       "  <tbody>\n",
       "    <tr>\n",
       "      <th>0</th>\n",
       "      <td>With a smart journalistic instinct characteris...</td>\n",
       "      <td>chesterson</td>\n",
       "    </tr>\n",
       "    <tr>\n",
       "      <th>1</th>\n",
       "      <td>In his preceding attempts to attach himself to...</td>\n",
       "      <td>austen</td>\n",
       "    </tr>\n",
       "    <tr>\n",
       "      <th>2</th>\n",
       "      <td>I must see what I can give them towards furnis...</td>\n",
       "      <td>austen</td>\n",
       "    </tr>\n",
       "    <tr>\n",
       "      <th>3</th>\n",
       "      <td>Hor.</td>\n",
       "      <td>shakespeare</td>\n",
       "    </tr>\n",
       "    <tr>\n",
       "      <th>4</th>\n",
       "      <td>Clit.</td>\n",
       "      <td>shakespeare</td>\n",
       "    </tr>\n",
       "    <tr>\n",
       "      <th>...</th>\n",
       "      <td>...</td>\n",
       "      <td>...</td>\n",
       "    </tr>\n",
       "    <tr>\n",
       "      <th>13495</th>\n",
       "      <td>As it is, I must ask you to announce that the ...</td>\n",
       "      <td>chesterson</td>\n",
       "    </tr>\n",
       "    <tr>\n",
       "      <th>13496</th>\n",
       "      <td>With a hasty exclamation of Misery, and a sign...</td>\n",
       "      <td>austen</td>\n",
       "    </tr>\n",
       "    <tr>\n",
       "      <th>13497</th>\n",
       "      <td>One leg gave way, he was swung round and sucke...</td>\n",
       "      <td>chesterson</td>\n",
       "    </tr>\n",
       "    <tr>\n",
       "      <th>13498</th>\n",
       "      <td>That you bend your eye on vacancie, And with t...</td>\n",
       "      <td>shakespeare</td>\n",
       "    </tr>\n",
       "    <tr>\n",
       "      <th>13499</th>\n",
       "      <td>\"Know him!</td>\n",
       "      <td>austen</td>\n",
       "    </tr>\n",
       "  </tbody>\n",
       "</table>\n",
       "<p>13500 rows × 2 columns</p>\n",
       "</div>"
      ],
      "text/plain": [
       "                                                sentence       author\n",
       "0      With a smart journalistic instinct characteris...   chesterson\n",
       "1      In his preceding attempts to attach himself to...       austen\n",
       "2      I must see what I can give them towards furnis...       austen\n",
       "3                                                   Hor.  shakespeare\n",
       "4                                                  Clit.  shakespeare\n",
       "...                                                  ...          ...\n",
       "13495  As it is, I must ask you to announce that the ...   chesterson\n",
       "13496  With a hasty exclamation of Misery, and a sign...       austen\n",
       "13497  One leg gave way, he was swung round and sucke...   chesterson\n",
       "13498  That you bend your eye on vacancie, And with t...  shakespeare\n",
       "13499                                         \"Know him!       austen\n",
       "\n",
       "[13500 rows x 2 columns]"
      ]
     },
     "execution_count": 106,
     "metadata": {},
     "output_type": "execute_result"
    }
   ],
   "source": [
    "# slightly lower than least amount of sentences of any author\n",
    "to_choose = 4500\n",
    "sentences = []\n",
    "sentence_labels = []\n",
    "\n",
    "for author, sents in works.items():\n",
    "    chosen = np.random.choice(sents, to_choose, replace=False)\n",
    "    sentences += list(chosen)\n",
    "    sentence_labels += [author] * to_choose\n",
    "\n",
    "# shuffle list randomly\n",
    "Xy = list(zip(sentences, sentence_labels))\n",
    "random.shuffle(Xy)\n",
    "X, y = zip(*Xy)\n",
    "\n",
    "df = pd.DataFrame()\n",
    "df['sentence'] = X\n",
    "df['author'] = y\n",
    "df"
   ]
  },
  {
   "cell_type": "code",
   "execution_count": 107,
   "metadata": {},
   "outputs": [
    {
     "data": {
      "text/plain": [
       "(4500, 4500, 4500)"
      ]
     },
     "execution_count": 107,
     "metadata": {},
     "output_type": "execute_result"
    }
   ],
   "source": [
    "# each author has 4500 selected sentences\n",
    "len(np.where(df['author'] == 'chesterson')[0]), len(np.where(df['author'] == 'austen')[0]), len(np.where(df['author'] == 'shakespeare')[0])"
   ]
  },
  {
   "cell_type": "markdown",
   "metadata": {},
   "source": [
    "# Prepare Data\n",
    "\n",
    "- Prepare data\n",
    "    - Normalize\n",
    "        - convert to lowercase\n",
    "        - remove punctuation\n",
    "    - N-grams\n",
    "    - Bag of Words\n",
    "    - word2Vec ?\n",
    "    - Get style\n",
    "        - sentence length\n",
    "        - word choice\n",
    "        - sentiment ?"
   ]
  },
  {
   "cell_type": "code",
   "execution_count": 108,
   "metadata": {},
   "outputs": [
    {
     "name": "stderr",
     "output_type": "stream",
     "text": [
      "[nltk_data] Downloading package stopwords to /home/robbie/nltk_data...\n",
      "[nltk_data]   Package stopwords is already up-to-date!\n",
      "[nltk_data] Downloading package wordnet to /home/robbie/nltk_data...\n",
      "[nltk_data]   Package wordnet is already up-to-date!\n",
      "[nltk_data] Downloading package omw-1.4 to /home/robbie/nltk_data...\n",
      "[nltk_data]   Package omw-1.4 is already up-to-date!\n"
     ]
    },
    {
     "data": {
      "text/plain": [
       "True"
      ]
     },
     "execution_count": 108,
     "metadata": {},
     "output_type": "execute_result"
    }
   ],
   "source": [
    "import collections\n",
    "from nltk.corpus import stopwords\n",
    "from nltk import WordNetLemmatizer\n",
    "from keras.preprocessing.text import one_hot\n",
    "from sklearn.model_selection import train_test_split\n",
    "from sklearn.preprocessing import LabelBinarizer\n",
    "from sklearn.feature_extraction.text import CountVectorizer, TfidfVectorizer\n",
    "\n",
    "nltk.download('stopwords')\n",
    "nltk.download('wordnet')\n",
    "nltk.download('omw-1.4')"
   ]
  },
  {
   "cell_type": "code",
   "execution_count": 109,
   "metadata": {},
   "outputs": [],
   "source": [
    "def get_vocab_size(excerpt_list, n, seq_size):\n",
    "    \"\"\"Calculate size of n-gram vocab\n",
    "    \n",
    "    Args:\n",
    "    excerpt_list: list of strings. List of normalized text excerpts.\n",
    "    n: int. Length of n-grams.\n",
    "    seq_size: int. Size of n-gram sequences\n",
    "    \n",
    "    Returns:\n",
    "    vocab_size: int. Size of n-gram vocab.\n",
    "    \"\"\"\n",
    "    n_gram_list = []\n",
    "\n",
    "    for excerpt in excerpt_list:\n",
    "        # Remove spaces\n",
    "        excerpt = excerpt.replace(\" \", \"\")\n",
    "\n",
    "        # Extract n-grams           \n",
    "        n_grams = [excerpt[i:i + n] for i in range(len(excerpt) - n + 1)]\n",
    "\n",
    "        # Create list of n-grams\n",
    "        gram_len = len(n_grams)\n",
    "        if gram_len >= seq_size:\n",
    "            n_grams = n_grams[0:seq_size]\n",
    "        else:\n",
    "            diff = seq_size - gram_len\n",
    "            extra = [0]*diff\n",
    "            n_grams = n_grams + extra\n",
    "        \n",
    "        n_gram_list.append(n_grams)\n",
    "    \n",
    "    # Flatten n-gram list\n",
    "    n_gram_list = list(np.array(n_gram_list).flat)\n",
    "    \n",
    "    # Calculate vocab size\n",
    "    n_gram_cnt = collections.Counter(n_gram_list)\n",
    "    vocab_size = len(n_gram_cnt)\n",
    "    \n",
    "    return vocab_size\n",
    "\n",
    "def create_n_grams(excerpt_list, n, vocab_size, seq_size):\n",
    "    \"\"\"Create a list of n-gram sequences\n",
    "    \n",
    "    Args:\n",
    "    excerpt_list: list of strings. List of normalized text excerpts.\n",
    "    n: int. Length of n-grams.\n",
    "    vocab_size: int. Size of n-gram vocab (used in one-hot encoding)\n",
    "    seq_size: int. Size of n-gram sequences\n",
    "    \n",
    "    Returns:\n",
    "    n_gram_array: array. Numpy array of one-hot encoded n-grams.\n",
    "    \"\"\"\n",
    "    n_gram_list = []\n",
    "\n",
    "    for excerpt in excerpt_list:\n",
    "        # Remove spaces\n",
    "        excerpt = excerpt.replace(\" \", \"\")\n",
    "\n",
    "        # Extract n-grams\n",
    "        n_grams = [excerpt[i:i + n] for i in range(len(excerpt) - n + 1)]\n",
    "\n",
    "        # Convert to a single string with spaces between n-grams\n",
    "        new_string = \" \".join(n_grams)\n",
    "\n",
    "        # One hot encode\n",
    "        hot = one_hot(new_string, round(vocab_size*1.3))\n",
    "\n",
    "        # Pad hot if necessary\n",
    "        hot_len = len(hot)\n",
    "        if hot_len >= seq_size:\n",
    "            hot = hot[0:seq_size]\n",
    "        else:\n",
    "            diff = seq_size - hot_len\n",
    "            extra = [0]*diff\n",
    "            hot = hot + extra\n",
    "\n",
    "        n_gram_list.append(hot)\n",
    "    \n",
    "    n_gram_array = np.array(n_gram_list)\n",
    "    \n",
    "    return n_gram_array"
   ]
  },
  {
   "cell_type": "code",
   "execution_count": 110,
   "metadata": {},
   "outputs": [],
   "source": [
    "X_train, X_test, y_train, y_test = train_test_split(X, y, test_size=0.25, random_state=RANDOM_SEED)"
   ]
  },
  {
   "cell_type": "code",
   "execution_count": 111,
   "metadata": {},
   "outputs": [
    {
     "name": "stdout",
     "output_type": "stream",
     "text": [
      "18919 13411\n"
     ]
    }
   ],
   "source": [
    "train_vs = get_vocab_size(X_train, 3, 350)\n",
    "test_vs = get_vocab_size(X_test, 3, 350)\n",
    "print(train_vs, test_vs)"
   ]
  },
  {
   "cell_type": "code",
   "execution_count": 112,
   "metadata": {},
   "outputs": [
    {
     "data": {
      "text/plain": [
       "((10125, 350),\n",
       " (3375, 350),\n",
       " 24592,\n",
       " array([ 4532, 11965, 17660,  5563, 10804,     0,     0,     0,     0,\n",
       "            0,     0,     0,     0,     0,     0,     0,     0,     0,\n",
       "            0,     0,     0,     0,     0,     0,     0,     0,     0,\n",
       "            0,     0,     0,     0,     0,     0,     0,     0,     0,\n",
       "            0,     0,     0,     0,     0,     0,     0,     0,     0,\n",
       "            0,     0,     0,     0,     0,     0,     0,     0,     0,\n",
       "            0,     0,     0,     0,     0,     0,     0,     0,     0,\n",
       "            0,     0,     0,     0,     0,     0,     0,     0,     0,\n",
       "            0,     0,     0,     0,     0,     0,     0,     0,     0,\n",
       "            0,     0,     0,     0,     0,     0,     0,     0,     0,\n",
       "            0,     0,     0,     0,     0,     0,     0,     0,     0,\n",
       "            0,     0,     0,     0,     0,     0,     0,     0,     0,\n",
       "            0,     0,     0,     0,     0,     0,     0,     0,     0,\n",
       "            0,     0,     0,     0,     0,     0,     0,     0,     0,\n",
       "            0,     0,     0,     0,     0,     0,     0,     0,     0,\n",
       "            0,     0,     0,     0,     0,     0,     0,     0,     0,\n",
       "            0,     0,     0,     0,     0,     0,     0,     0,     0,\n",
       "            0,     0,     0,     0,     0,     0,     0,     0,     0,\n",
       "            0,     0,     0,     0,     0,     0,     0,     0,     0,\n",
       "            0,     0,     0,     0,     0,     0,     0,     0,     0,\n",
       "            0,     0,     0,     0,     0,     0,     0,     0,     0,\n",
       "            0,     0,     0,     0,     0,     0,     0,     0,     0,\n",
       "            0,     0,     0,     0,     0,     0,     0,     0,     0,\n",
       "            0,     0,     0,     0,     0,     0,     0,     0,     0,\n",
       "            0,     0,     0,     0,     0,     0,     0,     0,     0,\n",
       "            0,     0,     0,     0,     0,     0,     0,     0,     0,\n",
       "            0,     0,     0,     0,     0,     0,     0,     0,     0,\n",
       "            0,     0,     0,     0,     0,     0,     0,     0,     0,\n",
       "            0,     0,     0,     0,     0,     0,     0,     0,     0,\n",
       "            0,     0,     0,     0,     0,     0,     0,     0,     0,\n",
       "            0,     0,     0,     0,     0,     0,     0,     0,     0,\n",
       "            0,     0,     0,     0,     0,     0,     0,     0,     0,\n",
       "            0,     0,     0,     0,     0,     0,     0,     0,     0,\n",
       "            0,     0,     0,     0,     0,     0,     0,     0,     0,\n",
       "            0,     0,     0,     0,     0,     0,     0,     0,     0,\n",
       "            0,     0,     0,     0,     0,     0,     0,     0,     0,\n",
       "            0,     0,     0,     0,     0,     0,     0,     0,     0,\n",
       "            0,     0,     0,     0,     0,     0,     0,     0,     0,\n",
       "            0,     0,     0,     0,     0,     0,     0,     0]))"
      ]
     },
     "execution_count": 112,
     "metadata": {},
     "output_type": "execute_result"
    }
   ],
   "source": [
    "three_grams_train = create_n_grams(X_train, 3, train_vs, 350)\n",
    "three_grams_test = create_n_grams(X_test, 3, test_vs, 350)\n",
    "three_grams_train.shape, three_grams_test.shape, np.max(three_grams_train), three_grams_train[0]"
   ]
  },
  {
   "cell_type": "code",
   "execution_count": 113,
   "metadata": {},
   "outputs": [],
   "source": [
    "# normalize texts\n",
    "def normalize_text(excerpt_list):\n",
    "    \"\"\"\n",
    "    Lemmatize sentences, remove stopwords and split into word lists\n",
    "    \n",
    "    Args:\n",
    "    excerpt_list: list of strings. List of normalized text excerpts.\n",
    "    \n",
    "    Returns:\n",
    "    processed: list of strings. List of lists of processed text excerpts (stemmed and stop words removed).\n",
    "    \"\"\"\n",
    "    stop_words = set(stopwords.words('english'))\n",
    "    lemma = WordNetLemmatizer()\n",
    "    \n",
    "    processed = []\n",
    "    \n",
    "    for excerpt in excerpt_list:\n",
    "        new = excerpt.split()\n",
    "        word_list = [lemma.lemmatize(w.lower(), pos='v') for w in new if not w in stop_words] # lemmatize verbs\n",
    "        word_list = [lemma.lemmatize(w.lower(), pos='n') for w in new if not w in stop_words] # lemmatize nouns\n",
    "        word_list = [lemma.lemmatize(w.lower(), pos='a') for w in new if not w in stop_words] # lemmatize adjectives\n",
    "        word_list = [lemma.lemmatize(w.lower(), pos='r') for w in new if not w in stop_words] # lemmatize adverbs\n",
    "        word_list = [lemma.lemmatize(w.lower(), pos='s') for w in new if not w in stop_words] # lemmatize satellite adjectives\n",
    "        word_list = \" \".join(word_list)\n",
    "        processed.append(word_list)\n",
    "    \n",
    "    return processed"
   ]
  },
  {
   "cell_type": "code",
   "execution_count": 114,
   "metadata": {},
   "outputs": [
    {
     "data": {
      "text/plain": [
       "\"she roused broodings restless agitation, let mrs clay know seen mr elliot three hours supposed bath, watched vain intimation interview lady herself, determined mention it, seemed guilt mrs clay's face listened.\""
      ]
     },
     "execution_count": 114,
     "metadata": {},
     "output_type": "execute_result"
    }
   ],
   "source": [
    "processed_train = normalize_text(X_train)\n",
    "processed_test = normalize_text(X_test)\n",
    "processed_train[150]"
   ]
  },
  {
   "cell_type": "code",
   "execution_count": 115,
   "metadata": {},
   "outputs": [],
   "source": [
    "# create features\n",
    "vector = TfidfVectorizer(strip_accents='ascii', stop_words='english')\n",
    "vector.fit(processed_train)\n",
    "\n",
    "words_train = vector.transform(processed_train)\n",
    "words_test = vector.transform(processed_test)"
   ]
  },
  {
   "cell_type": "code",
   "execution_count": 116,
   "metadata": {},
   "outputs": [],
   "source": [
    "# encode author labels\n",
    "lb = LabelBinarizer()\n",
    "lb.fit(y_train)\n",
    "author_one_hot_train = lb.transform(y_train)\n",
    "author_one_hot_test = lb.transform(y_test)"
   ]
  },
  {
   "cell_type": "markdown",
   "metadata": {},
   "source": [
    "# Implement Models"
   ]
  },
  {
   "cell_type": "code",
   "execution_count": 123,
   "metadata": {},
   "outputs": [],
   "source": [
    "import tensorflow as tf\n",
    "\n",
    "from keras.models import Model\n",
    "from keras.layers import Input, Dense, Flatten, Dropout, Embedding\n",
    "from keras.layers.convolutional import Conv1D, MaxPooling1D\n",
    "from keras.layers.merge import concatenate\n",
    "from keras.callbacks import ModelCheckpoint\n",
    "\n",
    "# try to get optimizer to work later\n",
    "# from keras.optimizers import Adam \n",
    "\n",
    "from sklearn.svm import SVC\n",
    "from sklearn.model_selection import GridSearchCV\n",
    "from sklearn.metrics import make_scorer\n"
   ]
  },
  {
   "cell_type": "markdown",
   "metadata": {},
   "source": [
    "## SVM"
   ]
  },
  {
   "cell_type": "code",
   "execution_count": 127,
   "metadata": {},
   "outputs": [
    {
     "name": "stdout",
     "output_type": "stream",
     "text": [
      "Fitting 5 folds for each of 9 candidates, totalling 45 fits\n",
      "[CV 1/5; 1/9] START C=1, kernel=linear..........................................\n",
      "[CV 1/5; 1/9] END ...........C=1, kernel=linear;, score=0.868 total time=   5.0s\n",
      "[CV 2/5; 1/9] START C=1, kernel=linear..........................................\n",
      "[CV 2/5; 1/9] END ...........C=1, kernel=linear;, score=0.859 total time=   5.0s\n",
      "[CV 3/5; 1/9] START C=1, kernel=linear..........................................\n",
      "[CV 3/5; 1/9] END ...........C=1, kernel=linear;, score=0.862 total time=   4.9s\n",
      "[CV 4/5; 1/9] START C=1, kernel=linear..........................................\n",
      "[CV 4/5; 1/9] END ...........C=1, kernel=linear;, score=0.863 total time=   5.2s\n",
      "[CV 5/5; 1/9] START C=1, kernel=linear..........................................\n",
      "[CV 5/5; 1/9] END ...........C=1, kernel=linear;, score=0.874 total time=   4.9s\n",
      "[CV 1/5; 2/9] START C=1, kernel=poly............................................\n",
      "[CV 1/5; 2/9] END .............C=1, kernel=poly;, score=0.782 total time=   8.9s\n",
      "[CV 2/5; 2/9] START C=1, kernel=poly............................................\n",
      "[CV 2/5; 2/9] END .............C=1, kernel=poly;, score=0.764 total time=   9.6s\n",
      "[CV 3/5; 2/9] START C=1, kernel=poly............................................\n",
      "[CV 3/5; 2/9] END .............C=1, kernel=poly;, score=0.755 total time=  10.2s\n",
      "[CV 4/5; 2/9] START C=1, kernel=poly............................................\n",
      "[CV 4/5; 2/9] END .............C=1, kernel=poly;, score=0.755 total time=   9.4s\n",
      "[CV 5/5; 2/9] START C=1, kernel=poly............................................\n",
      "[CV 5/5; 2/9] END .............C=1, kernel=poly;, score=0.774 total time=  11.1s\n",
      "[CV 1/5; 3/9] START C=1, kernel=sigmoid.........................................\n",
      "[CV 1/5; 3/9] END ..........C=1, kernel=sigmoid;, score=0.860 total time=   5.4s\n",
      "[CV 2/5; 3/9] START C=1, kernel=sigmoid.........................................\n",
      "[CV 2/5; 3/9] END ..........C=1, kernel=sigmoid;, score=0.854 total time=   5.2s\n",
      "[CV 3/5; 3/9] START C=1, kernel=sigmoid.........................................\n",
      "[CV 3/5; 3/9] END ..........C=1, kernel=sigmoid;, score=0.858 total time=   5.9s\n",
      "[CV 4/5; 3/9] START C=1, kernel=sigmoid.........................................\n",
      "[CV 4/5; 3/9] END ..........C=1, kernel=sigmoid;, score=0.862 total time=   4.8s\n",
      "[CV 5/5; 3/9] START C=1, kernel=sigmoid.........................................\n",
      "[CV 5/5; 3/9] END ..........C=1, kernel=sigmoid;, score=0.868 total time=   4.6s\n",
      "[CV 1/5; 4/9] START C=10, kernel=linear.........................................\n",
      "[CV 1/5; 4/9] END ..........C=10, kernel=linear;, score=0.835 total time=   4.7s\n",
      "[CV 2/5; 4/9] START C=10, kernel=linear.........................................\n",
      "[CV 2/5; 4/9] END ..........C=10, kernel=linear;, score=0.835 total time=   5.2s\n",
      "[CV 3/5; 4/9] START C=10, kernel=linear.........................................\n",
      "[CV 3/5; 4/9] END ..........C=10, kernel=linear;, score=0.838 total time=   5.9s\n",
      "[CV 4/5; 4/9] START C=10, kernel=linear.........................................\n",
      "[CV 4/5; 4/9] END ..........C=10, kernel=linear;, score=0.839 total time=   4.8s\n",
      "[CV 5/5; 4/9] START C=10, kernel=linear.........................................\n",
      "[CV 5/5; 4/9] END ..........C=10, kernel=linear;, score=0.836 total time=   5.0s\n",
      "[CV 1/5; 5/9] START C=10, kernel=poly...........................................\n",
      "[CV 1/5; 5/9] END ............C=10, kernel=poly;, score=0.806 total time=  10.3s\n",
      "[CV 2/5; 5/9] START C=10, kernel=poly...........................................\n",
      "[CV 2/5; 5/9] END ............C=10, kernel=poly;, score=0.752 total time=   9.8s\n",
      "[CV 3/5; 5/9] START C=10, kernel=poly...........................................\n",
      "[CV 3/5; 5/9] END ............C=10, kernel=poly;, score=0.764 total time=  10.4s\n",
      "[CV 4/5; 5/9] START C=10, kernel=poly...........................................\n",
      "[CV 4/5; 5/9] END ............C=10, kernel=poly;, score=0.768 total time=   9.9s\n",
      "[CV 5/5; 5/9] START C=10, kernel=poly...........................................\n",
      "[CV 5/5; 5/9] END ............C=10, kernel=poly;, score=0.792 total time=  10.0s\n",
      "[CV 1/5; 6/9] START C=10, kernel=sigmoid........................................\n",
      "[CV 1/5; 6/9] END .........C=10, kernel=sigmoid;, score=0.810 total time=   5.2s\n",
      "[CV 2/5; 6/9] START C=10, kernel=sigmoid........................................\n",
      "[CV 2/5; 6/9] END .........C=10, kernel=sigmoid;, score=0.812 total time=   5.8s\n",
      "[CV 3/5; 6/9] START C=10, kernel=sigmoid........................................\n",
      "[CV 3/5; 6/9] END .........C=10, kernel=sigmoid;, score=0.801 total time=   4.4s\n",
      "[CV 4/5; 6/9] START C=10, kernel=sigmoid........................................\n",
      "[CV 4/5; 6/9] END .........C=10, kernel=sigmoid;, score=0.806 total time=   6.2s\n",
      "[CV 5/5; 6/9] START C=10, kernel=sigmoid........................................\n",
      "[CV 5/5; 6/9] END .........C=10, kernel=sigmoid;, score=0.806 total time=   4.5s\n",
      "[CV 1/5; 7/9] START C=100, kernel=linear........................................\n",
      "[CV 1/5; 7/9] END .........C=100, kernel=linear;, score=0.792 total time=   4.6s\n",
      "[CV 2/5; 7/9] START C=100, kernel=linear........................................\n",
      "[CV 2/5; 7/9] END .........C=100, kernel=linear;, score=0.820 total time=   5.4s\n",
      "[CV 3/5; 7/9] START C=100, kernel=linear........................................\n",
      "[CV 3/5; 7/9] END .........C=100, kernel=linear;, score=0.794 total time=   5.4s\n",
      "[CV 4/5; 7/9] START C=100, kernel=linear........................................\n",
      "[CV 4/5; 7/9] END .........C=100, kernel=linear;, score=0.792 total time=   4.8s\n",
      "[CV 5/5; 7/9] START C=100, kernel=linear........................................\n",
      "[CV 5/5; 7/9] END .........C=100, kernel=linear;, score=0.788 total time=   5.1s\n",
      "[CV 1/5; 8/9] START C=100, kernel=poly..........................................\n",
      "[CV 1/5; 8/9] END ...........C=100, kernel=poly;, score=0.435 total time=   9.0s\n",
      "[CV 2/5; 8/9] START C=100, kernel=poly..........................................\n",
      "[CV 2/5; 8/9] END ...........C=100, kernel=poly;, score=0.641 total time=   8.9s\n",
      "[CV 3/5; 8/9] START C=100, kernel=poly..........................................\n",
      "[CV 3/5; 8/9] END ...........C=100, kernel=poly;, score=0.455 total time=   9.1s\n",
      "[CV 4/5; 8/9] START C=100, kernel=poly..........................................\n",
      "[CV 4/5; 8/9] END ...........C=100, kernel=poly;, score=0.440 total time=   9.5s\n",
      "[CV 5/5; 8/9] START C=100, kernel=poly..........................................\n",
      "[CV 5/5; 8/9] END ...........C=100, kernel=poly;, score=0.490 total time=  10.2s\n",
      "[CV 1/5; 9/9] START C=100, kernel=sigmoid.......................................\n",
      "[CV 1/5; 9/9] END ........C=100, kernel=sigmoid;, score=0.747 total time=   4.2s\n",
      "[CV 2/5; 9/9] START C=100, kernel=sigmoid.......................................\n",
      "[CV 2/5; 9/9] END ........C=100, kernel=sigmoid;, score=0.767 total time=   4.8s\n",
      "[CV 3/5; 9/9] START C=100, kernel=sigmoid.......................................\n",
      "[CV 3/5; 9/9] END ........C=100, kernel=sigmoid;, score=0.752 total time=   5.6s\n",
      "[CV 4/5; 9/9] START C=100, kernel=sigmoid.......................................\n",
      "[CV 4/5; 9/9] END ........C=100, kernel=sigmoid;, score=0.758 total time=   4.1s\n",
      "[CV 5/5; 9/9] START C=100, kernel=sigmoid.......................................\n",
      "[CV 5/5; 9/9] END ........C=100, kernel=sigmoid;, score=0.735 total time=   4.5s\n"
     ]
    },
    {
     "data": {
      "text/plain": [
       "SVC(C=1, kernel='linear')"
      ]
     },
     "execution_count": 127,
     "metadata": {},
     "output_type": "execute_result"
    }
   ],
   "source": [
    "svm = SVC()\n",
    "\n",
    "# attempt a bunch of different parameters to find best\n",
    "params = {'C':[1, 10, 100], 'kernel': ['linear', 'poly', 'sigmoid']}\n",
    "scorer = make_scorer(accuracy_score)\n",
    "\n",
    "grid_obj = GridSearchCV(svm, params, scoring = scorer, verbose = 50)\n",
    "svm_model = grid_obj.fit(words_train, y_train)\n",
    "\n",
    "# best model\n",
    "svm_model.best_estimator_"
   ]
  },
  {
   "cell_type": "code",
   "execution_count": 128,
   "metadata": {},
   "outputs": [
    {
     "data": {
      "text/plain": [
       "SVC(C=1, kernel='linear')"
      ]
     },
     "execution_count": 128,
     "metadata": {},
     "output_type": "execute_result"
    }
   ],
   "source": [
    "svc_model = SVC(C=1, kernel='linear')\n",
    "svc_model.fit(words_train, y_train)"
   ]
  },
  {
   "cell_type": "markdown",
   "metadata": {},
   "source": [
    "## Random Forest Ensemble"
   ]
  },
  {
   "cell_type": "code",
   "execution_count": null,
   "metadata": {},
   "outputs": [],
   "source": []
  },
  {
   "cell_type": "markdown",
   "metadata": {},
   "source": [
    "## Naive Bayes Classifier"
   ]
  },
  {
   "cell_type": "code",
   "execution_count": null,
   "metadata": {},
   "outputs": [],
   "source": []
  },
  {
   "cell_type": "markdown",
   "metadata": {},
   "source": [
    "## CNN"
   ]
  },
  {
   "cell_type": "code",
   "execution_count": 118,
   "metadata": {},
   "outputs": [],
   "source": [
    "# Define model architecture in keras\n",
    "# Code reference: https://machinelearningmastery.com/develop-n-gram-multichannel-convolutional-neural-network-sentiment-analysis/\n",
    "def define_model(input_len, output_size, vocab_size, embedding_dim, verbose = True,\n",
    "                drop_out_pct = 0.25, conv_filters = 500, activation_fn = 'relu', pool_size = 2, learning = 0.0001):\n",
    "    \"\"\"Define n-gram CNN\n",
    "    \n",
    "    Args:\n",
    "    input_len: int. Length of input sequences.\n",
    "    output_size: int. Number of output classes.\n",
    "    vocab_size: int. Maximum value of n-gram encoding.\n",
    "    embedding_dim: int. Size of embedding layer.\n",
    "    verbose: bool. Whether or not to print model summary.\n",
    "    drop_out_pct: float. Drop-out rate.\n",
    "    conv_filters: int. Number of filters in the conv layer.\n",
    "    activation_fn: string. Activation function to use in the convolutional layer.\n",
    "    pool_size: int. Pool size for the max pooling layer.\n",
    "    learning: float. Learning rate for the model optimizer.\n",
    "    \n",
    "    Returns:\n",
    "    model: keras model object. \n",
    "    \"\"\"\n",
    "    # Channel 1\n",
    "    inputs1 = Input(shape = (input_len,))\n",
    "    embedding1 = Embedding(vocab_size, embedding_dim)(inputs1)\n",
    "    drop1 = Dropout(drop_out_pct)(embedding1)\n",
    "    conv1 = Conv1D(filters = conv_filters, kernel_size = 3, activation = activation_fn)(drop1)\n",
    "    pool1 = MaxPooling1D(pool_size = pool_size)(conv1)\n",
    "    flat1 = Flatten()(pool1)\n",
    "    \n",
    "    # Channel 2\n",
    "    inputs2 = Input(shape = (input_len,))\n",
    "    embedding2 = Embedding(vocab_size, embedding_dim)(inputs2)\n",
    "    drop2 = Dropout(drop_out_pct)(embedding2)\n",
    "    conv2 = Conv1D(filters = conv_filters, kernel_size = 4, activation = activation_fn)(drop2)\n",
    "    pool2 = MaxPooling1D(pool_size = pool_size)(conv2)\n",
    "    flat2 = Flatten()(pool2)\n",
    "\n",
    "    # Channel 3\n",
    "    inputs3 = Input(shape = (input_len,))\n",
    "    embedding3= Embedding(vocab_size, embedding_dim)(inputs3)\n",
    "    drop3 = Dropout(drop_out_pct)(embedding3)\n",
    "    conv3 = Conv1D(filters = conv_filters, kernel_size = 5, activation = activation_fn)(drop3)\n",
    "    pool3 = MaxPooling1D(pool_size = pool_size)(conv3)\n",
    "    flat3 = Flatten()(pool3)\n",
    "    \n",
    "    # Merge channels\n",
    "    merged = concatenate([flat1, flat2, flat3])\n",
    "    \n",
    "    # Create output layer\n",
    "    output = Dense(output_size, activation = 'softmax')(merged)\n",
    "    \n",
    "    # Create model\n",
    "    model = Model(inputs = [inputs1, inputs2, inputs3], outputs = output)\n",
    "    \n",
    "    # Compile model\n",
    "    model.compile(loss='categorical_crossentropy', metrics=['accuracy'])\n",
    "    \n",
    "    if verbose:\n",
    "        print(model.summary())\n",
    "        \n",
    "    return model"
   ]
  },
  {
   "cell_type": "code",
   "execution_count": 119,
   "metadata": {},
   "outputs": [
    {
     "name": "stdout",
     "output_type": "stream",
     "text": [
      "Model: \"model_5\"\n",
      "__________________________________________________________________________________________________\n",
      " Layer (type)                   Output Shape         Param #     Connected to                     \n",
      "==================================================================================================\n",
      " input_16 (InputLayer)          [(None, 350)]        0           []                               \n",
      "                                                                                                  \n",
      " input_17 (InputLayer)          [(None, 350)]        0           []                               \n",
      "                                                                                                  \n",
      " input_18 (InputLayer)          [(None, 350)]        0           []                               \n",
      "                                                                                                  \n",
      " embedding_15 (Embedding)       (None, 350, 500)     12296500    ['input_16[0][0]']               \n",
      "                                                                                                  \n",
      " embedding_16 (Embedding)       (None, 350, 500)     12296500    ['input_17[0][0]']               \n",
      "                                                                                                  \n",
      " embedding_17 (Embedding)       (None, 350, 500)     12296500    ['input_18[0][0]']               \n",
      "                                                                                                  \n",
      " dropout_15 (Dropout)           (None, 350, 500)     0           ['embedding_15[0][0]']           \n",
      "                                                                                                  \n",
      " dropout_16 (Dropout)           (None, 350, 500)     0           ['embedding_16[0][0]']           \n",
      "                                                                                                  \n",
      " dropout_17 (Dropout)           (None, 350, 500)     0           ['embedding_17[0][0]']           \n",
      "                                                                                                  \n",
      " conv1d_15 (Conv1D)             (None, 348, 500)     750500      ['dropout_15[0][0]']             \n",
      "                                                                                                  \n",
      " conv1d_16 (Conv1D)             (None, 347, 500)     1000500     ['dropout_16[0][0]']             \n",
      "                                                                                                  \n",
      " conv1d_17 (Conv1D)             (None, 346, 500)     1250500     ['dropout_17[0][0]']             \n",
      "                                                                                                  \n",
      " max_pooling1d_15 (MaxPooling1D  (None, 174, 500)    0           ['conv1d_15[0][0]']              \n",
      " )                                                                                                \n",
      "                                                                                                  \n",
      " max_pooling1d_16 (MaxPooling1D  (None, 173, 500)    0           ['conv1d_16[0][0]']              \n",
      " )                                                                                                \n",
      "                                                                                                  \n",
      " max_pooling1d_17 (MaxPooling1D  (None, 173, 500)    0           ['conv1d_17[0][0]']              \n",
      " )                                                                                                \n",
      "                                                                                                  \n",
      " flatten_15 (Flatten)           (None, 87000)        0           ['max_pooling1d_15[0][0]']       \n",
      "                                                                                                  \n",
      " flatten_16 (Flatten)           (None, 86500)        0           ['max_pooling1d_16[0][0]']       \n",
      "                                                                                                  \n",
      " flatten_17 (Flatten)           (None, 86500)        0           ['max_pooling1d_17[0][0]']       \n",
      "                                                                                                  \n",
      " concatenate_5 (Concatenate)    (None, 260000)       0           ['flatten_15[0][0]',             \n",
      "                                                                  'flatten_16[0][0]',             \n",
      "                                                                  'flatten_17[0][0]']             \n",
      "                                                                                                  \n",
      " dense_5 (Dense)                (None, 3)            780003      ['concatenate_5[0][0]']          \n",
      "                                                                                                  \n",
      "==================================================================================================\n",
      "Total params: 40,671,003\n",
      "Trainable params: 40,671,003\n",
      "Non-trainable params: 0\n",
      "__________________________________________________________________________________________________\n",
      "None\n"
     ]
    }
   ],
   "source": [
    "three_gram_model = define_model(350, len(works), np.max(three_grams_train) + 1, 500)"
   ]
  },
  {
   "cell_type": "code",
   "execution_count": 120,
   "metadata": {},
   "outputs": [
    {
     "name": "stdout",
     "output_type": "stream",
     "text": [
      "Epoch 1/5\n",
      "WARNING:tensorflow:AutoGraph could not transform <function Model.make_train_function.<locals>.train_function at 0x7fd27bc7e550> and will run it as-is.\n",
      "Please report this to the TensorFlow team. When filing the bug, set the verbosity to 10 (on Linux, `export AUTOGRAPH_VERBOSITY=10`) and attach the full output.\n",
      "Cause: closure mismatch, requested ('self', 'step_function'), but source function had ()\n",
      "To silence this warning, decorate the function with @tf.autograph.experimental.do_not_convert\n",
      "WARNING: AutoGraph could not transform <function Model.make_train_function.<locals>.train_function at 0x7fd27bc7e550> and will run it as-is.\n",
      "Please report this to the TensorFlow team. When filing the bug, set the verbosity to 10 (on Linux, `export AUTOGRAPH_VERBOSITY=10`) and attach the full output.\n",
      "Cause: closure mismatch, requested ('self', 'step_function'), but source function had ()\n",
      "To silence this warning, decorate the function with @tf.autograph.experimental.do_not_convert\n",
      " 10/238 [>.............................] - ETA: 2:46 - loss: 4.6485 - accuracy: 0.4250"
     ]
    },
    {
     "ename": "KeyboardInterrupt",
     "evalue": "",
     "output_type": "error",
     "traceback": [
      "\u001b[0;31m---------------------------------------------------------------------------\u001b[0m",
      "\u001b[0;31mKeyboardInterrupt\u001b[0m                         Traceback (most recent call last)",
      "\u001b[0;32m/tmp/ipykernel_25681/249676558.py\u001b[0m in \u001b[0;36m<module>\u001b[0;34m\u001b[0m\n\u001b[0;32m----> 1\u001b[0;31m three_gram_model.fit(\n\u001b[0m\u001b[1;32m      2\u001b[0m     \u001b[0;34m[\u001b[0m\u001b[0mthree_grams_train\u001b[0m\u001b[0;34m,\u001b[0m \u001b[0mthree_grams_train\u001b[0m\u001b[0;34m,\u001b[0m \u001b[0mthree_grams_train\u001b[0m\u001b[0;34m]\u001b[0m\u001b[0;34m,\u001b[0m\u001b[0;34m\u001b[0m\u001b[0;34m\u001b[0m\u001b[0m\n\u001b[1;32m      3\u001b[0m     \u001b[0mauthor_one_hot_train\u001b[0m\u001b[0;34m,\u001b[0m\u001b[0;34m\u001b[0m\u001b[0;34m\u001b[0m\u001b[0m\n\u001b[1;32m      4\u001b[0m     \u001b[0mbatch_size\u001b[0m\u001b[0;34m=\u001b[0m\u001b[0;36m32\u001b[0m\u001b[0;34m,\u001b[0m\u001b[0;34m\u001b[0m\u001b[0;34m\u001b[0m\u001b[0m\n\u001b[1;32m      5\u001b[0m     \u001b[0mepochs\u001b[0m\u001b[0;34m=\u001b[0m\u001b[0;36m5\u001b[0m\u001b[0;34m,\u001b[0m\u001b[0;34m\u001b[0m\u001b[0;34m\u001b[0m\u001b[0m\n",
      "\u001b[0;32m~/anaconda3/lib/python3.9/site-packages/keras/utils/traceback_utils.py\u001b[0m in \u001b[0;36merror_handler\u001b[0;34m(*args, **kwargs)\u001b[0m\n\u001b[1;32m     62\u001b[0m     \u001b[0mfiltered_tb\u001b[0m \u001b[0;34m=\u001b[0m \u001b[0;32mNone\u001b[0m\u001b[0;34m\u001b[0m\u001b[0;34m\u001b[0m\u001b[0m\n\u001b[1;32m     63\u001b[0m     \u001b[0;32mtry\u001b[0m\u001b[0;34m:\u001b[0m\u001b[0;34m\u001b[0m\u001b[0;34m\u001b[0m\u001b[0m\n\u001b[0;32m---> 64\u001b[0;31m       \u001b[0;32mreturn\u001b[0m \u001b[0mfn\u001b[0m\u001b[0;34m(\u001b[0m\u001b[0;34m*\u001b[0m\u001b[0margs\u001b[0m\u001b[0;34m,\u001b[0m \u001b[0;34m**\u001b[0m\u001b[0mkwargs\u001b[0m\u001b[0;34m)\u001b[0m\u001b[0;34m\u001b[0m\u001b[0;34m\u001b[0m\u001b[0m\n\u001b[0m\u001b[1;32m     65\u001b[0m     \u001b[0;32mexcept\u001b[0m \u001b[0mException\u001b[0m \u001b[0;32mas\u001b[0m \u001b[0me\u001b[0m\u001b[0;34m:\u001b[0m  \u001b[0;31m# pylint: disable=broad-except\u001b[0m\u001b[0;34m\u001b[0m\u001b[0;34m\u001b[0m\u001b[0m\n\u001b[1;32m     66\u001b[0m       \u001b[0mfiltered_tb\u001b[0m \u001b[0;34m=\u001b[0m \u001b[0m_process_traceback_frames\u001b[0m\u001b[0;34m(\u001b[0m\u001b[0me\u001b[0m\u001b[0;34m.\u001b[0m\u001b[0m__traceback__\u001b[0m\u001b[0;34m)\u001b[0m\u001b[0;34m\u001b[0m\u001b[0;34m\u001b[0m\u001b[0m\n",
      "\u001b[0;32m~/anaconda3/lib/python3.9/site-packages/keras/engine/training.py\u001b[0m in \u001b[0;36mfit\u001b[0;34m(self, x, y, batch_size, epochs, verbose, callbacks, validation_split, validation_data, shuffle, class_weight, sample_weight, initial_epoch, steps_per_epoch, validation_steps, validation_batch_size, validation_freq, max_queue_size, workers, use_multiprocessing)\u001b[0m\n\u001b[1;32m   1382\u001b[0m             \u001b[0;32mor\u001b[0m\u001b[0;31m \u001b[0m\u001b[0;31m`\u001b[0m\u001b[0;34m(\u001b[0m\u001b[0minputs\u001b[0m\u001b[0;34m,\u001b[0m \u001b[0mtargets\u001b[0m\u001b[0;34m,\u001b[0m \u001b[0msample_weights\u001b[0m\u001b[0;34m)\u001b[0m\u001b[0;31m`\u001b[0m\u001b[0;34m.\u001b[0m\u001b[0;34m\u001b[0m\u001b[0;34m\u001b[0m\u001b[0m\n\u001b[1;32m   1383\u001b[0m           \u001b[0mA\u001b[0m \u001b[0mmore\u001b[0m \u001b[0mdetailed\u001b[0m \u001b[0mdescription\u001b[0m \u001b[0mof\u001b[0m \u001b[0munpacking\u001b[0m \u001b[0mbehavior\u001b[0m \u001b[0;32mfor\u001b[0m \u001b[0miterator\u001b[0m \u001b[0mtypes\u001b[0m\u001b[0;34m\u001b[0m\u001b[0;34m\u001b[0m\u001b[0m\n\u001b[0;32m-> 1384\u001b[0;31m           \u001b[0;34m(\u001b[0m\u001b[0mDataset\u001b[0m\u001b[0;34m,\u001b[0m \u001b[0mgenerator\u001b[0m\u001b[0;34m,\u001b[0m \u001b[0mSequence\u001b[0m\u001b[0;34m)\u001b[0m \u001b[0;32mis\u001b[0m \u001b[0mgiven\u001b[0m \u001b[0;32min\u001b[0m \u001b[0mthe\u001b[0m\u001b[0;31m \u001b[0m\u001b[0;31m`\u001b[0m\u001b[0mUnpacking\u001b[0m \u001b[0mbehavior\u001b[0m\u001b[0;34m\u001b[0m\u001b[0;34m\u001b[0m\u001b[0m\n\u001b[0m\u001b[1;32m   1385\u001b[0m           \u001b[0;32mfor\u001b[0m \u001b[0miterator\u001b[0m\u001b[0;34m-\u001b[0m\u001b[0mlike\u001b[0m \u001b[0minputs\u001b[0m\u001b[0;31m`\u001b[0m \u001b[0msection\u001b[0m \u001b[0mof\u001b[0m\u001b[0;31m \u001b[0m\u001b[0;31m`\u001b[0m\u001b[0mModel\u001b[0m\u001b[0;34m.\u001b[0m\u001b[0mfit\u001b[0m\u001b[0;31m`\u001b[0m\u001b[0;34m.\u001b[0m\u001b[0;34m\u001b[0m\u001b[0;34m\u001b[0m\u001b[0m\n\u001b[1;32m   1386\u001b[0m         \u001b[0my\u001b[0m\u001b[0;34m:\u001b[0m \u001b[0mTarget\u001b[0m \u001b[0mdata\u001b[0m\u001b[0;34m.\u001b[0m \u001b[0mLike\u001b[0m \u001b[0mthe\u001b[0m \u001b[0minput\u001b[0m \u001b[0mdata\u001b[0m\u001b[0;31m \u001b[0m\u001b[0;31m`\u001b[0m\u001b[0mx\u001b[0m\u001b[0;31m`\u001b[0m\u001b[0;34m,\u001b[0m \u001b[0mit\u001b[0m \u001b[0mcould\u001b[0m \u001b[0mbe\u001b[0m \u001b[0meither\u001b[0m \u001b[0mNumpy\u001b[0m\u001b[0;34m\u001b[0m\u001b[0;34m\u001b[0m\u001b[0m\n",
      "\u001b[0;32m~/anaconda3/lib/python3.9/site-packages/tensorflow/python/util/traceback_utils.py\u001b[0m in \u001b[0;36merror_handler\u001b[0;34m(*args, **kwargs)\u001b[0m\n\u001b[1;32m    148\u001b[0m     \u001b[0mfiltered_tb\u001b[0m \u001b[0;34m=\u001b[0m \u001b[0;32mNone\u001b[0m\u001b[0;34m\u001b[0m\u001b[0;34m\u001b[0m\u001b[0m\n\u001b[1;32m    149\u001b[0m     \u001b[0;32mtry\u001b[0m\u001b[0;34m:\u001b[0m\u001b[0;34m\u001b[0m\u001b[0;34m\u001b[0m\u001b[0m\n\u001b[0;32m--> 150\u001b[0;31m       \u001b[0;32mreturn\u001b[0m \u001b[0mfn\u001b[0m\u001b[0;34m(\u001b[0m\u001b[0;34m*\u001b[0m\u001b[0margs\u001b[0m\u001b[0;34m,\u001b[0m \u001b[0;34m**\u001b[0m\u001b[0mkwargs\u001b[0m\u001b[0;34m)\u001b[0m\u001b[0;34m\u001b[0m\u001b[0;34m\u001b[0m\u001b[0m\n\u001b[0m\u001b[1;32m    151\u001b[0m     \u001b[0;32mexcept\u001b[0m \u001b[0mException\u001b[0m \u001b[0;32mas\u001b[0m \u001b[0me\u001b[0m\u001b[0;34m:\u001b[0m\u001b[0;34m\u001b[0m\u001b[0;34m\u001b[0m\u001b[0m\n\u001b[1;32m    152\u001b[0m       \u001b[0mfiltered_tb\u001b[0m \u001b[0;34m=\u001b[0m \u001b[0m_process_traceback_frames\u001b[0m\u001b[0;34m(\u001b[0m\u001b[0me\u001b[0m\u001b[0;34m.\u001b[0m\u001b[0m__traceback__\u001b[0m\u001b[0;34m)\u001b[0m\u001b[0;34m\u001b[0m\u001b[0;34m\u001b[0m\u001b[0m\n",
      "\u001b[0;32m~/anaconda3/lib/python3.9/site-packages/tensorflow/python/eager/def_function.py\u001b[0m in \u001b[0;36m__call__\u001b[0;34m(self, *args, **kwds)\u001b[0m\n\u001b[1;32m    913\u001b[0m \u001b[0;34m\u001b[0m\u001b[0m\n\u001b[1;32m    914\u001b[0m       \u001b[0;32mwith\u001b[0m \u001b[0mOptionalXlaContext\u001b[0m\u001b[0;34m(\u001b[0m\u001b[0mself\u001b[0m\u001b[0;34m.\u001b[0m\u001b[0m_jit_compile\u001b[0m\u001b[0;34m)\u001b[0m\u001b[0;34m:\u001b[0m\u001b[0;34m\u001b[0m\u001b[0;34m\u001b[0m\u001b[0m\n\u001b[0;32m--> 915\u001b[0;31m         \u001b[0mresult\u001b[0m \u001b[0;34m=\u001b[0m \u001b[0mself\u001b[0m\u001b[0;34m.\u001b[0m\u001b[0m_call\u001b[0m\u001b[0;34m(\u001b[0m\u001b[0;34m*\u001b[0m\u001b[0margs\u001b[0m\u001b[0;34m,\u001b[0m \u001b[0;34m**\u001b[0m\u001b[0mkwds\u001b[0m\u001b[0;34m)\u001b[0m\u001b[0;34m\u001b[0m\u001b[0;34m\u001b[0m\u001b[0m\n\u001b[0m\u001b[1;32m    916\u001b[0m \u001b[0;34m\u001b[0m\u001b[0m\n\u001b[1;32m    917\u001b[0m       \u001b[0mnew_tracing_count\u001b[0m \u001b[0;34m=\u001b[0m \u001b[0mself\u001b[0m\u001b[0;34m.\u001b[0m\u001b[0mexperimental_get_tracing_count\u001b[0m\u001b[0;34m(\u001b[0m\u001b[0;34m)\u001b[0m\u001b[0;34m\u001b[0m\u001b[0;34m\u001b[0m\u001b[0m\n",
      "\u001b[0;32m~/anaconda3/lib/python3.9/site-packages/tensorflow/python/eager/def_function.py\u001b[0m in \u001b[0;36m_call\u001b[0;34m(self, *args, **kwds)\u001b[0m\n\u001b[1;32m    945\u001b[0m       \u001b[0;31m# In this case we have created variables on the first call, so we run the\u001b[0m\u001b[0;34m\u001b[0m\u001b[0;34m\u001b[0m\u001b[0m\n\u001b[1;32m    946\u001b[0m       \u001b[0;31m# defunned version which is guaranteed to never create variables.\u001b[0m\u001b[0;34m\u001b[0m\u001b[0;34m\u001b[0m\u001b[0m\n\u001b[0;32m--> 947\u001b[0;31m       \u001b[0;32mreturn\u001b[0m \u001b[0mself\u001b[0m\u001b[0;34m.\u001b[0m\u001b[0m_stateless_fn\u001b[0m\u001b[0;34m(\u001b[0m\u001b[0;34m*\u001b[0m\u001b[0margs\u001b[0m\u001b[0;34m,\u001b[0m \u001b[0;34m**\u001b[0m\u001b[0mkwds\u001b[0m\u001b[0;34m)\u001b[0m  \u001b[0;31m# pylint: disable=not-callable\u001b[0m\u001b[0;34m\u001b[0m\u001b[0;34m\u001b[0m\u001b[0m\n\u001b[0m\u001b[1;32m    948\u001b[0m     \u001b[0;32melif\u001b[0m \u001b[0mself\u001b[0m\u001b[0;34m.\u001b[0m\u001b[0m_stateful_fn\u001b[0m \u001b[0;32mis\u001b[0m \u001b[0;32mnot\u001b[0m \u001b[0;32mNone\u001b[0m\u001b[0;34m:\u001b[0m\u001b[0;34m\u001b[0m\u001b[0;34m\u001b[0m\u001b[0m\n\u001b[1;32m    949\u001b[0m       \u001b[0;31m# Release the lock early so that multiple threads can perform the call\u001b[0m\u001b[0;34m\u001b[0m\u001b[0;34m\u001b[0m\u001b[0m\n",
      "\u001b[0;32m~/anaconda3/lib/python3.9/site-packages/tensorflow/python/eager/function.py\u001b[0m in \u001b[0;36m__call__\u001b[0;34m(self, *args, **kwargs)\u001b[0m\n\u001b[1;32m   2954\u001b[0m       (graph_function,\n\u001b[1;32m   2955\u001b[0m        filtered_flat_args) = self._maybe_define_function(args, kwargs)\n\u001b[0;32m-> 2956\u001b[0;31m     return graph_function._call_flat(\n\u001b[0m\u001b[1;32m   2957\u001b[0m         filtered_flat_args, captured_inputs=graph_function.captured_inputs)  # pylint: disable=protected-access\n\u001b[1;32m   2958\u001b[0m \u001b[0;34m\u001b[0m\u001b[0m\n",
      "\u001b[0;32m~/anaconda3/lib/python3.9/site-packages/tensorflow/python/eager/function.py\u001b[0m in \u001b[0;36m_call_flat\u001b[0;34m(self, args, captured_inputs, cancellation_manager)\u001b[0m\n\u001b[1;32m   1851\u001b[0m         and executing_eagerly):\n\u001b[1;32m   1852\u001b[0m       \u001b[0;31m# No tape is watching; skip to running the function.\u001b[0m\u001b[0;34m\u001b[0m\u001b[0;34m\u001b[0m\u001b[0m\n\u001b[0;32m-> 1853\u001b[0;31m       return self._build_call_outputs(self._inference_function.call(\n\u001b[0m\u001b[1;32m   1854\u001b[0m           ctx, args, cancellation_manager=cancellation_manager))\n\u001b[1;32m   1855\u001b[0m     forward_backward = self._select_forward_and_backward_functions(\n",
      "\u001b[0;32m~/anaconda3/lib/python3.9/site-packages/tensorflow/python/eager/function.py\u001b[0m in \u001b[0;36mcall\u001b[0;34m(self, ctx, args, cancellation_manager)\u001b[0m\n\u001b[1;32m    497\u001b[0m       \u001b[0;32mwith\u001b[0m \u001b[0m_InterpolateFunctionError\u001b[0m\u001b[0;34m(\u001b[0m\u001b[0mself\u001b[0m\u001b[0;34m)\u001b[0m\u001b[0;34m:\u001b[0m\u001b[0;34m\u001b[0m\u001b[0;34m\u001b[0m\u001b[0m\n\u001b[1;32m    498\u001b[0m         \u001b[0;32mif\u001b[0m \u001b[0mcancellation_manager\u001b[0m \u001b[0;32mis\u001b[0m \u001b[0;32mNone\u001b[0m\u001b[0;34m:\u001b[0m\u001b[0;34m\u001b[0m\u001b[0;34m\u001b[0m\u001b[0m\n\u001b[0;32m--> 499\u001b[0;31m           outputs = execute.execute(\n\u001b[0m\u001b[1;32m    500\u001b[0m               \u001b[0mstr\u001b[0m\u001b[0;34m(\u001b[0m\u001b[0mself\u001b[0m\u001b[0;34m.\u001b[0m\u001b[0msignature\u001b[0m\u001b[0;34m.\u001b[0m\u001b[0mname\u001b[0m\u001b[0;34m)\u001b[0m\u001b[0;34m,\u001b[0m\u001b[0;34m\u001b[0m\u001b[0;34m\u001b[0m\u001b[0m\n\u001b[1;32m    501\u001b[0m               \u001b[0mnum_outputs\u001b[0m\u001b[0;34m=\u001b[0m\u001b[0mself\u001b[0m\u001b[0;34m.\u001b[0m\u001b[0m_num_outputs\u001b[0m\u001b[0;34m,\u001b[0m\u001b[0;34m\u001b[0m\u001b[0;34m\u001b[0m\u001b[0m\n",
      "\u001b[0;32m~/anaconda3/lib/python3.9/site-packages/tensorflow/python/eager/execute.py\u001b[0m in \u001b[0;36mquick_execute\u001b[0;34m(op_name, num_outputs, inputs, attrs, ctx, name)\u001b[0m\n\u001b[1;32m     52\u001b[0m   \u001b[0;32mtry\u001b[0m\u001b[0;34m:\u001b[0m\u001b[0;34m\u001b[0m\u001b[0;34m\u001b[0m\u001b[0m\n\u001b[1;32m     53\u001b[0m     \u001b[0mctx\u001b[0m\u001b[0;34m.\u001b[0m\u001b[0mensure_initialized\u001b[0m\u001b[0;34m(\u001b[0m\u001b[0;34m)\u001b[0m\u001b[0;34m\u001b[0m\u001b[0;34m\u001b[0m\u001b[0m\n\u001b[0;32m---> 54\u001b[0;31m     tensors = pywrap_tfe.TFE_Py_Execute(ctx._handle, device_name, op_name,\n\u001b[0m\u001b[1;32m     55\u001b[0m                                         inputs, attrs, num_outputs)\n\u001b[1;32m     56\u001b[0m   \u001b[0;32mexcept\u001b[0m \u001b[0mcore\u001b[0m\u001b[0;34m.\u001b[0m\u001b[0m_NotOkStatusException\u001b[0m \u001b[0;32mas\u001b[0m \u001b[0me\u001b[0m\u001b[0;34m:\u001b[0m\u001b[0;34m\u001b[0m\u001b[0;34m\u001b[0m\u001b[0m\n",
      "\u001b[0;31mKeyboardInterrupt\u001b[0m: "
     ]
    }
   ],
   "source": [
    "three_gram_model.fit(\n",
    "    [three_grams_train, three_grams_train, three_grams_train], \n",
    "    author_one_hot_train, \n",
    "    batch_size=32,\n",
    "    epochs=5, \n",
    "    verbose=1,\n",
    "    validation_split=0.25\n",
    ")"
   ]
  },
  {
   "cell_type": "markdown",
   "metadata": {},
   "source": [
    "# Evaluation"
   ]
  },
  {
   "cell_type": "code",
   "execution_count": 121,
   "metadata": {},
   "outputs": [],
   "source": [
    "import matplotlib.pyplot as plt\n",
    "import seaborn as sns\n",
    "\n",
    "from sklearn.metrics import accuracy_score, confusion_matrix"
   ]
  },
  {
   "cell_type": "code",
   "execution_count": 122,
   "metadata": {},
   "outputs": [],
   "source": [
    "def plot_confusion_matrix(cm, classes, title, normalize=True):\n",
    "    if normalize:\n",
    "        cm = cm.astype('float') / cm.sum(axis=1)[:, np.newaxis]\n",
    "\n",
    "    df_cm = pd.DataFrame(cm, index = classes,\n",
    "                  columns = classes)\n",
    "    sns.heatmap(df_cm, annot=True)\n",
    "    plt.ylabel('True Label')\n",
    "    plt.xlabel('Predicted Label')\n",
    "    plt.title(title)"
   ]
  },
  {
   "cell_type": "markdown",
   "metadata": {},
   "source": [
    "## SVM"
   ]
  },
  {
   "cell_type": "code",
   "execution_count": 130,
   "metadata": {},
   "outputs": [
    {
     "data": {
      "image/png": "[encoded data removed]",
      "text/plain": [
       "<Figure size 432x288 with 2 Axes>"
      ]
     },
     "metadata": {
      "needs_background": "light"
     },
     "output_type": "display_data"
    }
   ],
   "source": [
    "predictions = svc_model.predict(words_test)\n",
    "cm = confusion_matrix(y_test, predictions)\n",
    "plot_confusion_matrix(cm, classes=['shakespeare', 'austen', 'chesterson'], title='Normalized SVM Predictions')"
   ]
  },
  {
   "cell_type": "markdown",
   "metadata": {},
   "source": [
    "## CNN"
   ]
  },
  {
   "cell_type": "code",
   "execution_count": null,
   "metadata": {},
   "outputs": [
    {
     "data": {
      "image/png": "[encoded data removed]",
      "text/plain": [
       "<Figure size 432x288 with 2 Axes>"
      ]
     },
     "metadata": {
      "needs_background": "light"
     },
     "output_type": "display_data"
    }
   ],
   "source": [
    "# make predictions on test data\n",
    "predictions = three_gram_model.predict([three_grams_test, three_grams_test, three_grams_test])\n",
    "predictions = list(lb.inverse_transform(predictions))\n",
    "cm = confusion_matrix(y_test, predictions)\n",
    "plot_confusion_matrix(cm, classes=['shakespeare', 'austen', 'chesterson'], title='Normalized CNN Predictions')"
   ]
  },
  {
   "cell_type": "code",
   "execution_count": null,
   "metadata": {},
   "outputs": [],
   "source": []
  }
 ],
 "metadata": {
  "interpreter": {
   "hash": "8051ed847aa687a68b092997ecd6fbe867b860eb040d9d588058fca0af342982"
  },
  "kernelspec": {
   "display_name": "Python 3.9.12 ('nlp')",
   "language": "python",
   "name": "python3"
  },
  "language_info": {
   "codemirror_mode": {
    "name": "ipython",
    "version": 3
   },
   "file_extension": ".py",
   "mimetype": "text/x-python",
   "name": "python",
   "nbconvert_exporter": "python",
   "pygments_lexer": "ipython3",
   "version": "3.9.7"
  },
  "orig_nbformat": 4
 },
 "nbformat": 4,
 "nbformat_minor": 2
}

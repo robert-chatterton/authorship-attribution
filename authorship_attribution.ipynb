{
 "cells": [
  {
   "cell_type": "markdown",
   "metadata": {},
   "source": [
    "# Robert Chatterton\n",
    "\n",
    "#### DS 4400 Machine Learning and Data Mining I Final Project\n",
    "\n",
    "<hr />\n",
    "\n",
    "## Authorship Attribution on Classical Works and More"
   ]
  },
  {
   "cell_type": "code",
   "execution_count": 1,
   "metadata": {},
   "outputs": [
    {
     "name": "stderr",
     "output_type": "stream",
     "text": [
      "[nltk_data] Downloading package stopwords to /home/robbie/nltk_data...\n",
      "[nltk_data]   Package stopwords is already up-to-date!\n",
      "[nltk_data] Downloading package wordnet to /home/robbie/nltk_data...\n",
      "[nltk_data]   Package wordnet is already up-to-date!\n",
      "[nltk_data] Downloading package omw-1.4 to /home/robbie/nltk_data...\n",
      "[nltk_data]   Package omw-1.4 is already up-to-date!\n",
      "[nltk_data] Downloading package gutenberg to /home/robbie/nltk_data...\n",
      "[nltk_data]   Package gutenberg is already up-to-date!\n",
      "[nltk_data] Downloading package punkt to /home/robbie/nltk_data...\n",
      "[nltk_data]   Package punkt is already up-to-date!\n"
     ]
    }
   ],
   "source": [
    "# math and data\n",
    "import numpy as np\n",
    "import random\n",
    "import collections\n",
    "import pandas as pd\n",
    "\n",
    "# plotting\n",
    "import matplotlib.pyplot as plt\n",
    "import seaborn as sns\n",
    "sns.set_theme()\n",
    "sns.set_context('paper')\n",
    "\n",
    "# natural language processing\n",
    "import nltk\n",
    "from nltk.corpus import stopwords\n",
    "from nltk import WordNetLemmatizer\n",
    "nltk.download('stopwords')\n",
    "nltk.download('wordnet')\n",
    "nltk.download('omw-1.4')\n",
    "nltk.download('gutenberg')\n",
    "nltk.download('punkt')\n",
    "\n",
    "# first 3 models - SVC, Random Forest, and Naive Bayes\n",
    "from sklearn.svm import SVC\n",
    "from sklearn.ensemble import RandomForestClassifier\n",
    "from sklearn.naive_bayes import CategoricalNB\n",
    "from sklearn.preprocessing import LabelBinarizer, OrdinalEncoder\n",
    "from sklearn.model_selection import GridSearchCV, train_test_split\n",
    "from sklearn.metrics import make_scorer, accuracy_score, confusion_matrix, classification_report\n",
    "from sklearn.feature_extraction.text import TfidfVectorizer\n",
    "\n",
    "# CNN\n",
    "from keras.callbacks import Callback\n",
    "from keras.models import Model\n",
    "from keras.layers import Input, Dense, Flatten, Dropout, Embedding\n",
    "from keras.layers.convolutional import Conv1D, MaxPooling1D\n",
    "from keras.layers.merge import concatenate\n",
    "from keras.metrics import Precision, Recall\n",
    "from keras.preprocessing.text import one_hot\n",
    "from keras.utils.vis_utils import plot_model"
   ]
  },
  {
   "cell_type": "markdown",
   "metadata": {},
   "source": [
    "# Data Cleaning"
   ]
  },
  {
   "cell_type": "code",
   "execution_count": 2,
   "metadata": {},
   "outputs": [
    {
     "name": "stdout",
     "output_type": "stream",
     "text": [
      "austen-persuasion.txt has 3657 sentences\n",
      "austen-sense.txt has 5195 sentences\n",
      "chesterton-ball.txt has 4636 sentences\n",
      "chesterton-brown.txt has 3727 sentences\n",
      "chesterton-thursday.txt has 3570 sentences\n",
      "shakespeare-caesar.txt has 1592 sentences\n",
      "shakespeare-hamlet.txt has 2355 sentences\n",
      "shakespeare-macbeth.txt has 1465 sentences\n",
      "austen has 8852 sentences total\n",
      "chesterton has 11933 sentences total\n",
      "shakespeare has 5412 sentences total\n"
     ]
    }
   ],
   "source": [
    "minimum_sentence_length = 1\n",
    "\n",
    "def create_sentence_list(work):\n",
    "    raw = nltk.corpus.gutenberg.raw(work)\n",
    "    \n",
    "    # fix up text\n",
    "    text = raw.replace('.\"', '\".').replace('?\"', '\"?').replace('!\"', '\"!')\n",
    "    text = text.replace('--', ' ').replace('. . .', '').replace('_', '')\n",
    "    text = text.replace('\\n', ' ').replace('  ', ' ').replace('  ', ' ')\n",
    "\n",
    "    # tokenize into sentences\n",
    "    sents = nltk.tokenize.sent_tokenize(text)\n",
    "\n",
    "    # remove short sentences\n",
    "    sents = [sent for sent in sents if len(sent) >= minimum_sentence_length]\n",
    "    print(f'{work} has {len(sents)} sentences')\n",
    "    return sents\n",
    "\n",
    "# authors and works to investigate\n",
    "austen = create_sentence_list('austen-persuasion.txt') + create_sentence_list('austen-sense.txt')\n",
    "chesterton = create_sentence_list('chesterton-ball.txt') + create_sentence_list('chesterton-brown.txt') + create_sentence_list('chesterton-thursday.txt')\n",
    "shakespeare = create_sentence_list('shakespeare-caesar.txt') + create_sentence_list('shakespeare-hamlet.txt') + create_sentence_list('shakespeare-macbeth.txt')\n",
    "\n",
    "works = {\n",
    "    'austen': austen, \n",
    "    'chesterton': chesterton, \n",
    "    'shakespeare': shakespeare\n",
    "}\n",
    "\n",
    "for a, w in works.items():\n",
    "    print(f'{a} has {len(w)} sentences total')"
   ]
  },
  {
   "cell_type": "code",
   "execution_count": 3,
   "metadata": {},
   "outputs": [
    {
     "data": {
      "text/html": [
       "<div>\n",
       "<style scoped>\n",
       "    .dataframe tbody tr th:only-of-type {\n",
       "        vertical-align: middle;\n",
       "    }\n",
       "\n",
       "    .dataframe tbody tr th {\n",
       "        vertical-align: top;\n",
       "    }\n",
       "\n",
       "    .dataframe thead th {\n",
       "        text-align: right;\n",
       "    }\n",
       "</style>\n",
       "<table border=\"1\" class=\"dataframe\">\n",
       "  <thead>\n",
       "    <tr style=\"text-align: right;\">\n",
       "      <th></th>\n",
       "      <th>sentence</th>\n",
       "      <th>author</th>\n",
       "    </tr>\n",
       "  </thead>\n",
       "  <tbody>\n",
       "    <tr>\n",
       "      <th>0</th>\n",
       "      <td>\"The cross cannot be defeated,\" said MacIan, \"...</td>\n",
       "      <td>chesterton</td>\n",
       "    </tr>\n",
       "    <tr>\n",
       "      <th>1</th>\n",
       "      <td>Though all things foule, would wear the brows ...</td>\n",
       "      <td>shakespeare</td>\n",
       "    </tr>\n",
       "    <tr>\n",
       "      <th>2</th>\n",
       "      <td>\"There now; you see how droll he is.</td>\n",
       "      <td>austen</td>\n",
       "    </tr>\n",
       "    <tr>\n",
       "      <th>3</th>\n",
       "      <td>Flourish, and Shout.</td>\n",
       "      <td>shakespeare</td>\n",
       "    </tr>\n",
       "    <tr>\n",
       "      <th>4</th>\n",
       "      <td>We asked him to come home with us for a day or...</td>\n",
       "      <td>austen</td>\n",
       "    </tr>\n",
       "    <tr>\n",
       "      <th>5</th>\n",
       "      <td>Oh 'tis true: How smart a lash that speech dot...</td>\n",
       "      <td>shakespeare</td>\n",
       "    </tr>\n",
       "    <tr>\n",
       "      <th>6</th>\n",
       "      <td>Marianne was still handsomer.</td>\n",
       "      <td>austen</td>\n",
       "    </tr>\n",
       "    <tr>\n",
       "      <th>7</th>\n",
       "      <td>I take it that it's nobody's business but mine...</td>\n",
       "      <td>chesterton</td>\n",
       "    </tr>\n",
       "    <tr>\n",
       "      <th>8</th>\n",
       "      <td>Yes,\" said the old man, nodding a great many t...</td>\n",
       "      <td>chesterton</td>\n",
       "    </tr>\n",
       "    <tr>\n",
       "      <th>9</th>\n",
       "      <td>\"O God!</td>\n",
       "      <td>chesterton</td>\n",
       "    </tr>\n",
       "  </tbody>\n",
       "</table>\n",
       "</div>"
      ],
      "text/plain": [
       "                                            sentence       author\n",
       "0  \"The cross cannot be defeated,\" said MacIan, \"...   chesterton\n",
       "1  Though all things foule, would wear the brows ...  shakespeare\n",
       "2               \"There now; you see how droll he is.       austen\n",
       "3                               Flourish, and Shout.  shakespeare\n",
       "4  We asked him to come home with us for a day or...       austen\n",
       "5  Oh 'tis true: How smart a lash that speech dot...  shakespeare\n",
       "6                      Marianne was still handsomer.       austen\n",
       "7  I take it that it's nobody's business but mine...   chesterton\n",
       "8  Yes,\" said the old man, nodding a great many t...   chesterton\n",
       "9                                            \"O God!   chesterton"
      ]
     },
     "execution_count": 3,
     "metadata": {},
     "output_type": "execute_result"
    }
   ],
   "source": [
    "# slightly lower than least amount of sentences of any author\n",
    "to_choose = 5000\n",
    "sentences = []\n",
    "sentence_labels = []\n",
    "\n",
    "for author, sents in works.items():\n",
    "    chosen = np.random.choice(sents, to_choose, replace=False)\n",
    "    sentences += list(chosen)\n",
    "    sentence_labels += [author] * to_choose\n",
    "\n",
    "# shuffle list randomly\n",
    "Xy = list(zip(sentences, sentence_labels))\n",
    "random.shuffle(Xy)\n",
    "X, y = zip(*Xy)\n",
    "\n",
    "df = pd.DataFrame()\n",
    "df['sentence'] = X\n",
    "df['author'] = y\n",
    "df.head(10)"
   ]
  },
  {
   "cell_type": "code",
   "execution_count": 4,
   "metadata": {},
   "outputs": [
    {
     "data": {
      "text/plain": [
       "(5000, 5000, 5000)"
      ]
     },
     "execution_count": 4,
     "metadata": {},
     "output_type": "execute_result"
    }
   ],
   "source": [
    "# each author has the same number of randomly selected sentences\n",
    "len(np.where(df['author'] == 'chesterton')[0]), len(np.where(df['author'] == 'austen')[0]), len(np.where(df['author'] == 'shakespeare')[0])"
   ]
  },
  {
   "cell_type": "code",
   "execution_count": 36,
   "metadata": {},
   "outputs": [
    {
     "data": {
      "image/png": "[encoded data removed]",
      "text/plain": [
       "<Figure size 864x432 with 2 Axes>"
      ]
     },
     "metadata": {},
     "output_type": "display_data"
    }
   ],
   "source": [
    "# sentence length, word length\n",
    "def get_lengths(works):\n",
    "    sent_lengths = []\n",
    "    word_lengths = []\n",
    "    for sent in works:\n",
    "        split_ = sent.split()\n",
    "        sent_lengths.append(len(split_))\n",
    "        for word in split_:\n",
    "            word_lengths.append(len(word))\n",
    "    return np.array(sent_lengths), np.array(word_lengths)\n",
    "\n",
    "fig, axs = plt.subplots(1, 2)\n",
    "num_bins = 50\n",
    "opacity = [1, 0.67, 0.33]\n",
    "\n",
    "for i, item in enumerate(works.items()):\n",
    "    author, sentences = item[0], item[1]\n",
    "    sents, words = get_lengths(sentences)\n",
    "    axs[0].hist(sents, bins=num_bins, label=author, alpha=opacity[i])\n",
    "    axs[1].hist(words, bins=num_bins, label=author, alpha=opacity[i])\n",
    "\n",
    "axs[0].set_title('Lengths of Sentences (Number of Words per Sentence)')\n",
    "axs[1].set_title('Lengths of Words (Number of Characters per Word)')\n",
    "\n",
    "axs[0].set_xlabel('Sentence Length')\n",
    "axs[1].set_xlabel('Word Length')\n",
    "axs[0].set_ylabel('Count')\n",
    "axs[1].set_ylabel('Count')\n",
    "\n",
    "axs[0].set_xlim(0, 150)\n",
    "axs[1].set_xlim(0, 25)\n",
    "\n",
    "axs[0].legend()\n",
    "axs[1].legend()\n",
    "fig.set_size_inches((12,6))\n",
    "\n",
    "# save\n",
    "plt.savefig('lengths.png', format='png')"
   ]
  },
  {
   "cell_type": "markdown",
   "metadata": {},
   "source": [
    "# Prepare Data"
   ]
  },
  {
   "cell_type": "code",
   "execution_count": 6,
   "metadata": {},
   "outputs": [],
   "source": [
    "def get_vocab_size(excerpt_list, n, seq_size):\n",
    "    n_gram_list = []\n",
    "\n",
    "    for excerpt in excerpt_list:\n",
    "        # Remove spaces\n",
    "        excerpt = excerpt.replace(\" \", \"\")\n",
    "\n",
    "        # Extract n-grams           \n",
    "        n_grams = [excerpt[i:i + n] for i in range(len(excerpt) - n + 1)]\n",
    "\n",
    "        # Create list of n-grams\n",
    "        gram_len = len(n_grams)\n",
    "        if gram_len >= seq_size:\n",
    "            n_grams = n_grams[0:seq_size]\n",
    "        else:\n",
    "            diff = seq_size - gram_len\n",
    "            extra = [0]*diff\n",
    "            n_grams = n_grams + extra\n",
    "        \n",
    "        n_gram_list.append(n_grams)\n",
    "    \n",
    "    # Flatten n-gram list\n",
    "    n_gram_list = list(np.array(n_gram_list).flat)\n",
    "    \n",
    "    # Calculate vocab size\n",
    "    n_gram_cnt = collections.Counter(n_gram_list)\n",
    "    vocab_size = len(n_gram_cnt)\n",
    "    \n",
    "    return vocab_size\n",
    "\n",
    "def create_n_grams(excerpt_list, n, vocab_size, seq_size):\n",
    "    n_gram_list = []\n",
    "\n",
    "    for excerpt in excerpt_list:\n",
    "        # remove spaces\n",
    "        excerpt = excerpt.replace(\" \", \"\")\n",
    "\n",
    "        # extract n-grams\n",
    "        n_grams = [excerpt[i:i + n] for i in range(len(excerpt) - n + 1)]\n",
    "\n",
    "        # convert to a single string with spaces between n-grams\n",
    "        new_string = \" \".join(n_grams)\n",
    "\n",
    "        # one hot encode\n",
    "        hot = one_hot(new_string, round(vocab_size*1.3))\n",
    "\n",
    "        # pad hot if necessary\n",
    "        hot_len = len(hot)\n",
    "        if hot_len >= seq_size:\n",
    "            hot = hot[0:seq_size]\n",
    "        else:\n",
    "            diff = seq_size - hot_len\n",
    "            extra = [0]*diff\n",
    "            hot = hot + extra\n",
    "\n",
    "        n_gram_list.append(hot)\n",
    "    \n",
    "    n_gram_array = np.array(n_gram_list)\n",
    "    \n",
    "    return n_gram_array"
   ]
  },
  {
   "cell_type": "code",
   "execution_count": 7,
   "metadata": {},
   "outputs": [],
   "source": [
    "X_train, X_test, y_train, y_test = train_test_split(X, y, test_size=0.25)"
   ]
  },
  {
   "cell_type": "code",
   "execution_count": 8,
   "metadata": {},
   "outputs": [
    {
     "name": "stdout",
     "output_type": "stream",
     "text": [
      "19410 13751\n"
     ]
    }
   ],
   "source": [
    "# vocab sizes necessary to know for creating 3 grams\n",
    "train_vs = get_vocab_size(X_train, 3, 350)\n",
    "test_vs = get_vocab_size(X_test, 3, 350)\n",
    "print(train_vs, test_vs)"
   ]
  },
  {
   "cell_type": "code",
   "execution_count": 9,
   "metadata": {},
   "outputs": [
    {
     "data": {
      "text/plain": [
       "((11250, 350),\n",
       " (3750, 350),\n",
       " 25232,\n",
       " array([22289, 14416, 13234,  2070,  2400,  1377, 15256, 12405, 14917,\n",
       "         1545,  4960, 18288,  7980,  2362,    36, 18219, 15250,  9808,\n",
       "         9374,  8124, 11940, 20883,  1893, 12777,  1220,  2220,  7175,\n",
       "        22082, 13856,  7637,  6319,   816,  8103,  9833, 20710,  6379,\n",
       "        17846, 16182, 13833, 18420, 23175, 15256, 10255,  6907,  4487,\n",
       "         3683, 10255, 18043,  4686, 24195, 15190, 23008, 22679,  7373,\n",
       "         4228,  3592, 17766,  5180, 17408, 11985,  6425,  8606, 17258,\n",
       "        11854, 23701,  3195, 18543,  9773, 23410, 23223, 11293,   574,\n",
       "         1787,  5898, 11753, 12231,  5466, 18420,  9397,     0,     0,\n",
       "            0,     0,     0,     0,     0,     0,     0,     0,     0,\n",
       "            0,     0,     0,     0,     0,     0,     0,     0,     0,\n",
       "            0,     0,     0,     0,     0,     0,     0,     0,     0,\n",
       "            0,     0,     0,     0,     0,     0,     0,     0,     0,\n",
       "            0,     0,     0,     0,     0,     0,     0,     0,     0,\n",
       "            0,     0,     0,     0,     0,     0,     0,     0,     0,\n",
       "            0,     0,     0,     0,     0,     0,     0,     0,     0,\n",
       "            0,     0,     0,     0,     0,     0,     0,     0,     0,\n",
       "            0,     0,     0,     0,     0,     0,     0,     0,     0,\n",
       "            0,     0,     0,     0,     0,     0,     0,     0,     0,\n",
       "            0,     0,     0,     0,     0,     0,     0,     0,     0,\n",
       "            0,     0,     0,     0,     0,     0,     0,     0,     0,\n",
       "            0,     0,     0,     0,     0,     0,     0,     0,     0,\n",
       "            0,     0,     0,     0,     0,     0,     0,     0,     0,\n",
       "            0,     0,     0,     0,     0,     0,     0,     0,     0,\n",
       "            0,     0,     0,     0,     0,     0,     0,     0,     0,\n",
       "            0,     0,     0,     0,     0,     0,     0,     0,     0,\n",
       "            0,     0,     0,     0,     0,     0,     0,     0,     0,\n",
       "            0,     0,     0,     0,     0,     0,     0,     0,     0,\n",
       "            0,     0,     0,     0,     0,     0,     0,     0,     0,\n",
       "            0,     0,     0,     0,     0,     0,     0,     0,     0,\n",
       "            0,     0,     0,     0,     0,     0,     0,     0,     0,\n",
       "            0,     0,     0,     0,     0,     0,     0,     0,     0,\n",
       "            0,     0,     0,     0,     0,     0,     0,     0,     0,\n",
       "            0,     0,     0,     0,     0,     0,     0,     0,     0,\n",
       "            0,     0,     0,     0,     0,     0,     0,     0,     0,\n",
       "            0,     0,     0,     0,     0,     0,     0,     0,     0,\n",
       "            0,     0,     0,     0,     0,     0,     0,     0,     0,\n",
       "            0,     0,     0,     0,     0,     0,     0,     0,     0,\n",
       "            0,     0,     0,     0,     0,     0,     0,     0]))"
      ]
     },
     "execution_count": 9,
     "metadata": {},
     "output_type": "execute_result"
    }
   ],
   "source": [
    "# create 3 grams\n",
    "three_grams_train = create_n_grams(X_train, 3, train_vs, 350)\n",
    "three_grams_test = create_n_grams(X_test, 3, test_vs, 350)\n",
    "three_grams_train.shape, three_grams_test.shape, np.max(three_grams_train), three_grams_train[0]"
   ]
  },
  {
   "cell_type": "code",
   "execution_count": 10,
   "metadata": {},
   "outputs": [],
   "source": [
    "def lemmatize_text(sentences):\n",
    "    stop_words = set(stopwords.words('english'))\n",
    "    lemma = WordNetLemmatizer()\n",
    "    lemmatized = []\n",
    "    \n",
    "    for sentence in sentences:\n",
    "        new = sentence.split()\n",
    "        word_list = [lemma.lemmatize(w.lower(), pos='v') for w in new if not w in stop_words] # lemmatize verbs\n",
    "        word_list = [lemma.lemmatize(w.lower(), pos='n') for w in new if not w in stop_words] # lemmatize nouns\n",
    "        word_list = [lemma.lemmatize(w.lower(), pos='a') for w in new if not w in stop_words] # lemmatize adjectives\n",
    "        word_list = [lemma.lemmatize(w.lower(), pos='r') for w in new if not w in stop_words] # lemmatize adverbs\n",
    "        word_list = [lemma.lemmatize(w.lower(), pos='s') for w in new if not w in stop_words] # lemmatize satellite adjectives\n",
    "        word_list = \" \".join(word_list)\n",
    "        lemmatized.append(word_list)\n",
    "    \n",
    "    return lemmatized"
   ]
  },
  {
   "cell_type": "code",
   "execution_count": 11,
   "metadata": {},
   "outputs": [
    {
     "data": {
      "text/plain": [
       "'\"i small objection account,\" replied anne.'"
      ]
     },
     "execution_count": 11,
     "metadata": {},
     "output_type": "execute_result"
    }
   ],
   "source": [
    "processed_train = lemmatize_text(X_train)\n",
    "processed_test = lemmatize_text(X_test)\n",
    "\n",
    "# sample of a lemmatized sentence\n",
    "processed_train[150]"
   ]
  },
  {
   "cell_type": "code",
   "execution_count": 12,
   "metadata": {},
   "outputs": [],
   "source": [
    "# create features\n",
    "vector = TfidfVectorizer(strip_accents='ascii', stop_words='english', min_df=7)\n",
    "vector.fit(processed_train)\n",
    "\n",
    "words_train = vector.transform(processed_train)\n",
    "words_test = vector.transform(processed_test)\n",
    "\n",
    "words_train[0]"
   ]
  },
  {
   "cell_type": "code",
   "execution_count": 13,
   "metadata": {},
   "outputs": [],
   "source": [
    "# encode author labels\n",
    "lb = LabelBinarizer()\n",
    "lb.fit(y_train)\n",
    "author_one_hot_train = lb.transform(y_train)\n",
    "author_one_hot_test = lb.transform(y_test)\n",
    "\n",
    "author_one_hot_train[0]"
   ]
  },
  {
   "cell_type": "markdown",
   "metadata": {},
   "source": [
    "# Implement Models"
   ]
  },
  {
   "cell_type": "markdown",
   "metadata": {},
   "source": [
    "## SVC"
   ]
  },
  {
   "cell_type": "code",
   "execution_count": 14,
   "metadata": {},
   "outputs": [
    {
     "name": "stdout",
     "output_type": "stream",
     "text": [
      "Fitting 5 folds for each of 4 candidates, totalling 20 fits\n",
      "[CV 1/5; 1/4] START C=1, kernel=linear..........................................\n",
      "[CV 1/5; 1/4] END ...........C=1, kernel=linear;, score=0.846 total time=   1.7s\n",
      "[CV 2/5; 1/4] START C=1, kernel=linear..........................................\n",
      "[CV 2/5; 1/4] END ...........C=1, kernel=linear;, score=0.852 total time=   1.7s\n",
      "[CV 3/5; 1/4] START C=1, kernel=linear..........................................\n",
      "[CV 3/5; 1/4] END ...........C=1, kernel=linear;, score=0.838 total time=   1.7s\n",
      "[CV 4/5; 1/4] START C=1, kernel=linear..........................................\n",
      "[CV 4/5; 1/4] END ...........C=1, kernel=linear;, score=0.838 total time=   1.7s\n",
      "[CV 5/5; 1/4] START C=1, kernel=linear..........................................\n",
      "[CV 5/5; 1/4] END ...........C=1, kernel=linear;, score=0.829 total time=   1.7s\n",
      "[CV 1/5; 2/4] START C=3, kernel=linear..........................................\n",
      "[CV 1/5; 2/4] END ...........C=3, kernel=linear;, score=0.838 total time=   1.6s\n",
      "[CV 2/5; 2/4] START C=3, kernel=linear..........................................\n",
      "[CV 2/5; 2/4] END ...........C=3, kernel=linear;, score=0.848 total time=   1.6s\n",
      "[CV 3/5; 2/4] START C=3, kernel=linear..........................................\n",
      "[CV 3/5; 2/4] END ...........C=3, kernel=linear;, score=0.843 total time=   1.5s\n",
      "[CV 4/5; 2/4] START C=3, kernel=linear..........................................\n",
      "[CV 4/5; 2/4] END ...........C=3, kernel=linear;, score=0.833 total time=   1.5s\n",
      "[CV 5/5; 2/4] START C=3, kernel=linear..........................................\n",
      "[CV 5/5; 2/4] END ...........C=3, kernel=linear;, score=0.833 total time=   1.5s\n",
      "[CV 1/5; 3/4] START C=5, kernel=linear..........................................\n",
      "[CV 1/5; 3/4] END ...........C=5, kernel=linear;, score=0.837 total time=   1.6s\n",
      "[CV 2/5; 3/4] START C=5, kernel=linear..........................................\n",
      "[CV 2/5; 3/4] END ...........C=5, kernel=linear;, score=0.841 total time=   1.6s\n",
      "[CV 3/5; 3/4] START C=5, kernel=linear..........................................\n",
      "[CV 3/5; 3/4] END ...........C=5, kernel=linear;, score=0.834 total time=   1.5s\n",
      "[CV 4/5; 3/4] START C=5, kernel=linear..........................................\n",
      "[CV 4/5; 3/4] END ...........C=5, kernel=linear;, score=0.824 total time=   1.6s\n",
      "[CV 5/5; 3/4] START C=5, kernel=linear..........................................\n",
      "[CV 5/5; 3/4] END ...........C=5, kernel=linear;, score=0.825 total time=   1.6s\n",
      "[CV 1/5; 4/4] START C=10, kernel=linear.........................................\n",
      "[CV 1/5; 4/4] END ..........C=10, kernel=linear;, score=0.829 total time=   1.7s\n",
      "[CV 2/5; 4/4] START C=10, kernel=linear.........................................\n",
      "[CV 2/5; 4/4] END ..........C=10, kernel=linear;, score=0.828 total time=   1.6s\n",
      "[CV 3/5; 4/4] START C=10, kernel=linear.........................................\n",
      "[CV 3/5; 4/4] END ..........C=10, kernel=linear;, score=0.816 total time=   1.6s\n",
      "[CV 4/5; 4/4] START C=10, kernel=linear.........................................\n",
      "[CV 4/5; 4/4] END ..........C=10, kernel=linear;, score=0.815 total time=   1.6s\n",
      "[CV 5/5; 4/4] START C=10, kernel=linear.........................................\n",
      "[CV 5/5; 4/4] END ..........C=10, kernel=linear;, score=0.816 total time=   1.6s\n"
     ]
    },
    {
     "data": {
      "text/plain": [
       "SVC(C=1, kernel='linear')"
      ]
     },
     "execution_count": 14,
     "metadata": {},
     "output_type": "execute_result"
    }
   ],
   "source": [
    "svc = SVC()\n",
    "\n",
    "# attempt a bunch of different parameters to find best\n",
    "params = {'C':[1, 3, 5, 10], 'kernel': ['linear']}\n",
    "scorer = make_scorer(accuracy_score)\n",
    "\n",
    "grid_obj = GridSearchCV(svc, params, scoring = scorer, verbose = 50)\n",
    "svc_model = grid_obj.fit(words_train, y_train)\n",
    "\n",
    "# best model\n",
    "svc_model.best_estimator_"
   ]
  },
  {
   "cell_type": "code",
   "execution_count": 15,
   "metadata": {},
   "outputs": [
    {
     "data": {
      "text/plain": [
       "SVC(C=1, kernel='linear')"
      ]
     },
     "execution_count": 15,
     "metadata": {},
     "output_type": "execute_result"
    }
   ],
   "source": [
    "# best parameters from the tests above\n",
    "svc_model = SVC(C=1, kernel='linear')\n",
    "svc_model.fit(words_train, y_train)"
   ]
  },
  {
   "cell_type": "markdown",
   "metadata": {},
   "source": [
    "## Random Forest Ensemble"
   ]
  },
  {
   "cell_type": "code",
   "execution_count": 16,
   "metadata": {},
   "outputs": [],
   "source": [
    "accuracies = {}\n",
    "for est in range(10, 201, 5):\n",
    "    rf_model = RandomForestClassifier(n_estimators=est, criterion='gini')\n",
    "    rf_model.fit(words_train, y_train)\n",
    "\n",
    "    pred = rf_model.predict(words_test)\n",
    "    accuracies[est] = accuracy_score(y_test, pred)"
   ]
  },
  {
   "cell_type": "code",
   "execution_count": 49,
   "metadata": {},
   "outputs": [
    {
     "name": "stdout",
     "output_type": "stream",
     "text": [
      "The model that performed the best was at 150 estimators, with an accuracy of 0.8069333333333333\n"
     ]
    },
    {
     "data": {
      "image/png": "[encoded data removed]",
      "text/plain": [
       "<Figure size 432x216 with 1 Axes>"
      ]
     },
     "metadata": {},
     "output_type": "display_data"
    }
   ],
   "source": [
    "fig = plt.figure()\n",
    "plt.plot(accuracies.keys(), accuracies.values())\n",
    "plt.ylim(0.6, 0.9)\n",
    "plt.title('Random Forest Ensemble with varying estimators')\n",
    "plt.xlabel('Number of estimators')\n",
    "plt.ylabel('Accuracy')\n",
    "plt.tight_layout()\n",
    "fig.set_size_inches((6, 3))\n",
    "# save\n",
    "plt.savefig('rf_est.png', format='png')\n",
    "\n",
    "best_est = max(accuracies, key=accuracies.get)\n",
    "print(f'The model that performed the best was at {best_est} estimators, with an accuracy of {accuracies[best_est]}')"
   ]
  },
  {
   "cell_type": "code",
   "execution_count": 18,
   "metadata": {},
   "outputs": [
    {
     "data": {
      "text/plain": [
       "RandomForestClassifier(n_estimators=150)"
      ]
     },
     "execution_count": 18,
     "metadata": {},
     "output_type": "execute_result"
    }
   ],
   "source": [
    "rf_model = RandomForestClassifier(n_estimators=best_est, criterion='gini')\n",
    "rf_model.fit(words_train, y_train)"
   ]
  },
  {
   "cell_type": "markdown",
   "metadata": {},
   "source": [
    "## Naive Bayes Classifier"
   ]
  },
  {
   "cell_type": "code",
   "execution_count": 19,
   "metadata": {},
   "outputs": [
    {
     "data": {
      "text/plain": [
       "CategoricalNB()"
      ]
     },
     "execution_count": 19,
     "metadata": {},
     "output_type": "execute_result"
    }
   ],
   "source": [
    "# encode three grams to work with CategoricalNB\n",
    "encoder = OrdinalEncoder()\n",
    "bayes_train = encoder.fit_transform(three_grams_train)\n",
    "\n",
    "nb_model = CategoricalNB()\n",
    "nb_model.fit(bayes_train, y_train)"
   ]
  },
  {
   "cell_type": "markdown",
   "metadata": {},
   "source": [
    "## CNN"
   ]
  },
  {
   "cell_type": "code",
   "execution_count": 20,
   "metadata": {},
   "outputs": [],
   "source": [
    "# define custom callback class for tracking loss and accuracy while training\n",
    "class authorship_callback(Callback):\n",
    "    def on_train_begin(self, logs={}):\n",
    "        self.losses = []\n",
    "        self.accs = []\n",
    "        self.precisions = []\n",
    "        self.recalls = []\n",
    "\n",
    "    def on_batch_end(self, batch, logs={}):\n",
    "        self.losses.append(logs.get('loss'))\n",
    "        self.accs.append(logs.get('accuracy'))\n",
    "        self.precisions.append(logs.get('precision_cnn'))\n",
    "        self.recalls.append(logs.get('recall_cnn'))\n",
    "\n",
    "# code reference for design of CNN: https://machinelearningmastery.com/develop-n-gram-multichannel-convolutional-neural-network-sentiment-analysis/\n",
    "def define_model(input_len, output_size, vocab_size, embedding_dim, drop_out_pct = 0.25, conv_filters = 500, activation_fn = 'relu', pool_size = 2):\n",
    "    # channel 1\n",
    "    inputs1 = Input(shape = (input_len,))\n",
    "    embedding1 = Embedding(vocab_size, embedding_dim)(inputs1)\n",
    "    drop1 = Dropout(drop_out_pct)(embedding1)\n",
    "    conv1 = Conv1D(filters = conv_filters, kernel_size = 3, activation = activation_fn)(drop1)\n",
    "    pool1 = MaxPooling1D(pool_size = pool_size)(conv1)\n",
    "    flat1 = Flatten()(pool1)\n",
    "    \n",
    "    # channel 2\n",
    "    inputs2 = Input(shape = (input_len,))\n",
    "    embedding2 = Embedding(vocab_size, embedding_dim)(inputs2)\n",
    "    drop2 = Dropout(drop_out_pct)(embedding2)\n",
    "    conv2 = Conv1D(filters = conv_filters, kernel_size = 4, activation = activation_fn)(drop2)\n",
    "    pool2 = MaxPooling1D(pool_size = pool_size)(conv2)\n",
    "    flat2 = Flatten()(pool2)\n",
    "\n",
    "    # channel 3\n",
    "    inputs3 = Input(shape = (input_len,))\n",
    "    embedding3= Embedding(vocab_size, embedding_dim)(inputs3)\n",
    "    drop3 = Dropout(drop_out_pct)(embedding3)\n",
    "    conv3 = Conv1D(filters = conv_filters, kernel_size = 5, activation = activation_fn)(drop3)\n",
    "    pool3 = MaxPooling1D(pool_size = pool_size)(conv3)\n",
    "    flat3 = Flatten()(pool3)\n",
    "    \n",
    "    # merge channels\n",
    "    merged = concatenate([flat1, flat2, flat3])\n",
    "    \n",
    "    # create output layer\n",
    "    output = Dense(output_size, activation = 'softmax')(merged)\n",
    "    \n",
    "    # create model\n",
    "    model = Model(inputs = [inputs1, inputs2, inputs3], outputs = output)\n",
    "    \n",
    "    # compile model\n",
    "    model.compile(loss='categorical_crossentropy', optimizer='adam', metrics=['accuracy', Precision(name='precision_cnn'), Recall(name='recall_cnn')])\n",
    "    plot_model(model, show_shapes=True, to_file='cnn_arch.png')\n",
    "    print(model.summary())\n",
    "    return model"
   ]
  },
  {
   "cell_type": "code",
   "execution_count": 21,
   "metadata": {},
   "outputs": [
    {
     "name": "stderr",
     "output_type": "stream",
     "text": [
      "2022-05-02 15:03:16.877311: I tensorflow/compiler/jit/xla_cpu_device.cc:41] Not creating XLA devices, tf_xla_enable_xla_devices not set\n",
      "2022-05-02 15:03:16.877577: I tensorflow/core/platform/cpu_feature_guard.cc:142] This TensorFlow binary is optimized with oneAPI Deep Neural Network Library (oneDNN) to use the following CPU instructions in performance-critical operations:  SSE4.1 SSE4.2 AVX AVX2 FMA\n",
      "To enable them in other operations, rebuild TensorFlow with the appropriate compiler flags.\n",
      "2022-05-02 15:03:16.878987: I tensorflow/core/common_runtime/process_util.cc:146] Creating new thread pool with default inter op setting: 2. Tune using inter_op_parallelism_threads for best performance.\n"
     ]
    },
    {
     "name": "stdout",
     "output_type": "stream",
     "text": [
      "Model: \"model\"\n",
      "__________________________________________________________________________________________________\n",
      "Layer (type)                    Output Shape         Param #     Connected to                     \n",
      "==================================================================================================\n",
      "input_1 (InputLayer)            [(None, 350)]        0                                            \n",
      "__________________________________________________________________________________________________\n",
      "input_2 (InputLayer)            [(None, 350)]        0                                            \n",
      "__________________________________________________________________________________________________\n",
      "input_3 (InputLayer)            [(None, 350)]        0                                            \n",
      "__________________________________________________________________________________________________\n",
      "embedding (Embedding)           (None, 350, 800)     20186400    input_1[0][0]                    \n",
      "__________________________________________________________________________________________________\n",
      "embedding_1 (Embedding)         (None, 350, 800)     20186400    input_2[0][0]                    \n",
      "__________________________________________________________________________________________________\n",
      "embedding_2 (Embedding)         (None, 350, 800)     20186400    input_3[0][0]                    \n",
      "__________________________________________________________________________________________________\n",
      "dropout (Dropout)               (None, 350, 800)     0           embedding[0][0]                  \n",
      "__________________________________________________________________________________________________\n",
      "dropout_1 (Dropout)             (None, 350, 800)     0           embedding_1[0][0]                \n",
      "__________________________________________________________________________________________________\n",
      "dropout_2 (Dropout)             (None, 350, 800)     0           embedding_2[0][0]                \n",
      "__________________________________________________________________________________________________\n",
      "conv1d (Conv1D)                 (None, 348, 500)     1200500     dropout[0][0]                    \n",
      "__________________________________________________________________________________________________\n",
      "conv1d_1 (Conv1D)               (None, 347, 500)     1600500     dropout_1[0][0]                  \n",
      "__________________________________________________________________________________________________\n",
      "conv1d_2 (Conv1D)               (None, 346, 500)     2000500     dropout_2[0][0]                  \n",
      "__________________________________________________________________________________________________\n",
      "max_pooling1d (MaxPooling1D)    (None, 174, 500)     0           conv1d[0][0]                     \n",
      "__________________________________________________________________________________________________\n",
      "max_pooling1d_1 (MaxPooling1D)  (None, 173, 500)     0           conv1d_1[0][0]                   \n",
      "__________________________________________________________________________________________________\n",
      "max_pooling1d_2 (MaxPooling1D)  (None, 173, 500)     0           conv1d_2[0][0]                   \n",
      "__________________________________________________________________________________________________\n",
      "flatten (Flatten)               (None, 87000)        0           max_pooling1d[0][0]              \n",
      "__________________________________________________________________________________________________\n",
      "flatten_1 (Flatten)             (None, 86500)        0           max_pooling1d_1[0][0]            \n",
      "__________________________________________________________________________________________________\n",
      "flatten_2 (Flatten)             (None, 86500)        0           max_pooling1d_2[0][0]            \n",
      "__________________________________________________________________________________________________\n",
      "concatenate (Concatenate)       (None, 260000)       0           flatten[0][0]                    \n",
      "                                                                 flatten_1[0][0]                  \n",
      "                                                                 flatten_2[0][0]                  \n",
      "__________________________________________________________________________________________________\n",
      "dense (Dense)                   (None, 3)            780003      concatenate[0][0]                \n",
      "==================================================================================================\n",
      "Total params: 66,140,703\n",
      "Trainable params: 66,140,703\n",
      "Non-trainable params: 0\n",
      "__________________________________________________________________________________________________\n",
      "None\n"
     ]
    }
   ],
   "source": [
    "cnn_model = define_model(350, len(works), np.max(three_grams_train) + 1, 800)"
   ]
  },
  {
   "cell_type": "code",
   "execution_count": 22,
   "metadata": {},
   "outputs": [
    {
     "name": "stdout",
     "output_type": "stream",
     "text": [
      "Epoch 1/5\n"
     ]
    },
    {
     "name": "stderr",
     "output_type": "stream",
     "text": [
      "2022-05-02 15:03:17.221643: I tensorflow/compiler/mlir/mlir_graph_optimization_pass.cc:116] None of the MLIR optimization passes are enabled (registered 2)\n",
      "2022-05-02 15:03:17.222064: I tensorflow/core/platform/profile_utils/cpu_utils.cc:112] CPU Frequency: 4200005000 Hz\n"
     ]
    },
    {
     "name": "stdout",
     "output_type": "stream",
     "text": [
      "282/282 [==============================] - 336s 1s/step - loss: 0.9293 - accuracy: 0.6006 - precision_cnn: 0.6711 - recall_cnn: 0.4649 - val_loss: 0.4078 - val_accuracy: 0.8289 - val_precision_cnn: 0.8595 - val_recall_cnn: 0.8022\n",
      "Epoch 2/5\n",
      "282/282 [==============================] - 333s 1s/step - loss: 0.1943 - accuracy: 0.9251 - precision_cnn: 0.9358 - recall_cnn: 0.9157 - val_loss: 0.5021 - val_accuracy: 0.8373 - val_precision_cnn: 0.8490 - val_recall_cnn: 0.8244\n",
      "Epoch 3/5\n",
      "282/282 [==============================] - 333s 1s/step - loss: 0.0476 - accuracy: 0.9826 - precision_cnn: 0.9859 - recall_cnn: 0.9798 - val_loss: 0.6735 - val_accuracy: 0.8444 - val_precision_cnn: 0.8488 - val_recall_cnn: 0.8382\n",
      "Epoch 4/5\n",
      "282/282 [==============================] - 343s 1s/step - loss: 0.0691 - accuracy: 0.9835 - precision_cnn: 0.9838 - recall_cnn: 0.9828 - val_loss: 1.2323 - val_accuracy: 0.8356 - val_precision_cnn: 0.8363 - val_recall_cnn: 0.8333\n",
      "Epoch 5/5\n",
      "282/282 [==============================] - 335s 1s/step - loss: 0.2613 - accuracy: 0.9525 - precision_cnn: 0.9530 - recall_cnn: 0.9508 - val_loss: 1.6835 - val_accuracy: 0.8227 - val_precision_cnn: 0.8245 - val_recall_cnn: 0.8187\n"
     ]
    },
    {
     "data": {
      "text/plain": [
       "<tensorflow.python.keras.callbacks.History at 0x7fcaa8139070>"
      ]
     },
     "execution_count": 22,
     "metadata": {},
     "output_type": "execute_result"
    }
   ],
   "source": [
    "training_history = authorship_callback()\n",
    "cnn_model.fit(\n",
    "    [three_grams_train, three_grams_train, three_grams_train], \n",
    "    author_one_hot_train, \n",
    "    batch_size=32,\n",
    "    epochs=5, \n",
    "    verbose=1,\n",
    "    validation_split=0.2,\n",
    "    callbacks=[training_history]\n",
    ")"
   ]
  },
  {
   "cell_type": "code",
   "execution_count": 50,
   "metadata": {},
   "outputs": [
    {
     "data": {
      "image/png": "[encoded data removed]",
      "text/plain": [
       "<Figure size 864x864 with 4 Axes>"
      ]
     },
     "metadata": {},
     "output_type": "display_data"
    }
   ],
   "source": [
    "# get history parameters\n",
    "cnn_loss = training_history.losses\n",
    "cnn_acc = training_history.accs\n",
    "cnn_pre = training_history.precisions\n",
    "cnn_rec = training_history.recalls\n",
    "\n",
    "# plot metrics gained while training\n",
    "fig, axs = plt.subplots(2, 2)\n",
    "\n",
    "# loss\n",
    "axs[0, 0].plot(cnn_loss)\n",
    "axs[0, 0].set_ylabel('Loss')\n",
    "axs[0, 0].set_title('Categorical Cross-Entropy Loss while training')\n",
    "\n",
    "# accuracy\n",
    "axs[0, 1].plot(cnn_acc)\n",
    "axs[0, 1].set(ylabel='Accuracy')\n",
    "axs[0, 1].set_title('Accuracy while training')\n",
    "\n",
    "# precision\n",
    "axs[1, 0].plot(cnn_pre)\n",
    "axs[1, 0].set(ylabel='Precision')\n",
    "axs[1, 0].set_title('Precision while training')\n",
    "\n",
    "# recall\n",
    "axs[1, 1].plot(cnn_rec)\n",
    "axs[1, 1].set(ylabel='Recall')\n",
    "axs[1, 1].set_title('Recall while training')\n",
    "\n",
    "for i, ax in enumerate(axs.flat):\n",
    "    ax.set(xlabel='Batch number')\n",
    "    if i != 0:\n",
    "        ax.set_ylim(0, 1)\n",
    "\n",
    "fig.set_size_inches((12, 12))\n",
    "# save\n",
    "plt.savefig('cnn_training.png', format='png')"
   ]
  },
  {
   "cell_type": "markdown",
   "metadata": {},
   "source": [
    "# Evaluation"
   ]
  },
  {
   "cell_type": "code",
   "execution_count": 29,
   "metadata": {},
   "outputs": [],
   "source": [
    "cmap = sns.color_palette(\"Blues\", as_cmap=True)\n",
    "\n",
    "def plot_confusion_matrix(cm, classes, title, normalize=True):\n",
    "    if normalize:\n",
    "        cm = cm.astype('float') / cm.sum(axis=1)[:, np.newaxis]\n",
    "\n",
    "    df_cm = pd.DataFrame(cm, index = classes,\n",
    "                  columns = classes)\n",
    "    sns.heatmap(df_cm, annot=True, cmap=cmap)\n",
    "    plt.ylabel('True Label')\n",
    "    plt.xlabel('Predicted Label')\n",
    "    plt.title(title)\n",
    "\n",
    "def print_scores(true, pred):\n",
    "    print(classification_report(true, pred, target_names=works.keys()))"
   ]
  },
  {
   "cell_type": "markdown",
   "metadata": {},
   "source": [
    "## SVM"
   ]
  },
  {
   "cell_type": "code",
   "execution_count": 51,
   "metadata": {},
   "outputs": [
    {
     "name": "stdout",
     "output_type": "stream",
     "text": [
      "              precision    recall  f1-score   support\n",
      "\n",
      "      austen       0.82      0.83      0.83      1265\n",
      "  chesterton       0.75      0.84      0.79      1208\n",
      " shakespeare       0.95      0.83      0.88      1277\n",
      "\n",
      "    accuracy                           0.83      3750\n",
      "   macro avg       0.84      0.83      0.83      3750\n",
      "weighted avg       0.84      0.83      0.84      3750\n",
      "\n"
     ]
    },
    {
     "data": {
      "image/png": "[encoded data removed]",
      "text/plain": [
       "<Figure size 432x288 with 2 Axes>"
      ]
     },
     "metadata": {},
     "output_type": "display_data"
    }
   ],
   "source": [
    "predictions = svc_model.predict(words_test)\n",
    "cm = confusion_matrix(y_test, predictions)\n",
    "plot_confusion_matrix(cm, classes=works.keys(), title='Normalized SVC Predictions')\n",
    "print_scores(y_test, predictions)\n",
    "# save\n",
    "plt.savefig('svc_cm.png', format='png')"
   ]
  },
  {
   "cell_type": "markdown",
   "metadata": {},
   "source": [
    "## Random Forest Ensemble"
   ]
  },
  {
   "cell_type": "code",
   "execution_count": 52,
   "metadata": {},
   "outputs": [
    {
     "name": "stdout",
     "output_type": "stream",
     "text": [
      "              precision    recall  f1-score   support\n",
      "\n",
      "      austen       0.80      0.76      0.78      1265\n",
      "  chesterton       0.75      0.76      0.76      1208\n",
      " shakespeare       0.84      0.88      0.86      1277\n",
      "\n",
      "    accuracy                           0.80      3750\n",
      "   macro avg       0.80      0.80      0.80      3750\n",
      "weighted avg       0.80      0.80      0.80      3750\n",
      "\n"
     ]
    },
    {
     "data": {
      "image/png": "[encoded data removed]",
      "text/plain": [
       "<Figure size 432x288 with 2 Axes>"
      ]
     },
     "metadata": {},
     "output_type": "display_data"
    }
   ],
   "source": [
    "predictions = rf_model.predict(words_test)\n",
    "cm = confusion_matrix(y_test, predictions)\n",
    "plot_confusion_matrix(cm, classes=works.keys(), title=f'Normalized RF Predictions with {best_est} estimators')\n",
    "print_scores(y_test, predictions)\n",
    "# save\n",
    "plt.savefig('rf_cm.png', format='png')"
   ]
  },
  {
   "cell_type": "markdown",
   "metadata": {},
   "source": [
    "## Naive Bayes"
   ]
  },
  {
   "cell_type": "code",
   "execution_count": 53,
   "metadata": {},
   "outputs": [
    {
     "name": "stdout",
     "output_type": "stream",
     "text": [
      "              precision    recall  f1-score   support\n",
      "\n",
      "      austen       0.55      0.21      0.30      1265\n",
      "  chesterton       0.41      0.40      0.41      1208\n",
      " shakespeare       0.44      0.73      0.55      1277\n",
      "\n",
      "    accuracy                           0.45      3750\n",
      "   macro avg       0.47      0.44      0.42      3750\n",
      "weighted avg       0.47      0.45      0.42      3750\n",
      "\n"
     ]
    },
    {
     "data": {
      "image/png": "[encoded data removed]",
      "text/plain": [
       "<Figure size 432x288 with 2 Axes>"
      ]
     },
     "metadata": {},
     "output_type": "display_data"
    }
   ],
   "source": [
    "bayes_test = encoder.fit_transform(three_grams_test)\n",
    "predictions = nb_model.predict(bayes_test)\n",
    "cm = confusion_matrix(y_test, predictions)\n",
    "plot_confusion_matrix(cm, classes=works.keys(), title=f'Normalized Naive Bayes Predictions')\n",
    "print_scores(y_test, predictions)\n",
    "# save\n",
    "plt.savefig('nb_cm.png', format='png')"
   ]
  },
  {
   "cell_type": "markdown",
   "metadata": {},
   "source": [
    "## CNN"
   ]
  },
  {
   "cell_type": "code",
   "execution_count": 54,
   "metadata": {},
   "outputs": [
    {
     "name": "stdout",
     "output_type": "stream",
     "text": [
      "              precision    recall  f1-score   support\n",
      "\n",
      "      austen       0.33      0.12      0.18      1265\n",
      "  chesterton       0.32      0.50      0.39      1208\n",
      " shakespeare       0.37      0.40      0.38      1277\n",
      "\n",
      "    accuracy                           0.34      3750\n",
      "   macro avg       0.34      0.34      0.32      3750\n",
      "weighted avg       0.34      0.34      0.32      3750\n",
      "\n"
     ]
    },
    {
     "data": {
      "image/png": "[encoded data removed]",
      "text/plain": [
       "<Figure size 432x288 with 2 Axes>"
      ]
     },
     "metadata": {},
     "output_type": "display_data"
    }
   ],
   "source": [
    "predictions = cnn_model.predict([three_grams_test, three_grams_test, three_grams_test])\n",
    "predictions = list(lb.inverse_transform(predictions))\n",
    "cm = confusion_matrix(y_test, predictions)\n",
    "plot_confusion_matrix(cm, classes=works.keys(), title=f'Normalized CNN Predictions')\n",
    "print_scores(y_test, predictions)\n",
    "# save\n",
    "plt.savefig('cnn_cm.png', format='png')"
   ]
  },
  {
   "cell_type": "code",
   "execution_count": null,
   "metadata": {},
   "outputs": [],
   "source": []
  }
 ],
 "metadata": {
  "interpreter": {
   "hash": "8051ed847aa687a68b092997ecd6fbe867b860eb040d9d588058fca0af342982"
  },
  "kernelspec": {
   "display_name": "Python 3.9.12 ('nlp')",
   "language": "python",
   "name": "python3"
  },
  "language_info": {
   "codemirror_mode": {
    "name": "ipython",
    "version": 3
   },
   "file_extension": ".py",
   "mimetype": "text/x-python",
   "name": "python",
   "nbconvert_exporter": "python",
   "pygments_lexer": "ipython3",
   "version": "3.9.12"
  },
  "orig_nbformat": 4
 },
 "nbformat": 4,
 "nbformat_minor": 2
}

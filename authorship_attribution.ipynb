{
 "cells": [
  {
   "cell_type": "markdown",
   "metadata": {},
   "source": [
    "# Robert Chatterton\n",
    "\n",
    "#### DS 4400 Machine Learning and Data Mining I Final Project\n",
    "\n",
    "<hr />\n",
    "\n",
    "## Authorship Attribution on Classical Works and More"
   ]
  },
  {
   "cell_type": "markdown",
   "metadata": {},
   "source": [
    "`Outline:`\n",
    "\n",
    "    - Clean and pull data\n",
    "        - Read in texts from NLTK\n",
    "        - Choose specific ones (5 authors?)\n",
    "\n",
    "    - Prepare data\n",
    "        - N-grams\n",
    "        - Bag of Words\n",
    "        - word2Vec? if I can\n",
    "        - Get style\n",
    "            - sentence length\n",
    "            - word choice\n",
    "            - sentiment\n",
    "            \n",
    "\n",
    "    - Models:\n",
    "        - Logistic Regression\n",
    "        - Random Forest\n",
    "        - Naive Bayes\n",
    "        - NN (LSTM or Feed forward?)"
   ]
  },
  {
   "cell_type": "code",
   "execution_count": 15,
   "metadata": {},
   "outputs": [],
   "source": [
    "# imports\n",
    "import numpy as np\n",
    "import nltk\n",
    "import matplotlib.pyplot as plt"
   ]
  },
  {
   "cell_type": "markdown",
   "metadata": {},
   "source": [
    "# Data Cleaning"
   ]
  },
  {
   "cell_type": "code",
   "execution_count": 16,
   "metadata": {},
   "outputs": [
    {
     "name": "stderr",
     "output_type": "stream",
     "text": [
      "[nltk_data] Downloading package gutenberg to /home/robbie/nltk_data...\n",
      "[nltk_data]   Package gutenberg is already up-to-date!\n",
      "[nltk_data] Downloading package punkt to /home/robbie/nltk_data...\n",
      "[nltk_data]   Package punkt is already up-to-date!\n"
     ]
    },
    {
     "data": {
      "text/plain": [
       "True"
      ]
     },
     "execution_count": 16,
     "metadata": {},
     "output_type": "execute_result"
    }
   ],
   "source": [
    "nltk.download('gutenberg')\n",
    "nltk.download('punkt')"
   ]
  },
  {
   "cell_type": "code",
   "execution_count": 37,
   "metadata": {},
   "outputs": [
    {
     "name": "stdout",
     "output_type": "stream",
     "text": [
      "austen-persuasion.txt has 3599 sentences\n",
      "austen-sense.txt has 5134 sentences\n",
      "austen has 8733 in the dataset\n",
      "chesterton-ball.txt has 4591 sentences\n",
      "chesterton-brown.txt has 3706 sentences\n",
      "chesterton-thursday.txt has 3554 sentences\n",
      "chesterson has 11851 in the dataset\n",
      "shakespeare-caesar.txt has 1423 sentences\n",
      "shakespeare-hamlet.txt has 2048 sentences\n",
      "shakespeare-macbeth.txt has 1284 sentences\n",
      "shakespeare has 4755 in the dataset\n"
     ]
    }
   ],
   "source": [
    "minimum_sentence_length = 5\n",
    "\n",
    "# authors and works to investigate\n",
    "all_works = {\n",
    "    'austen': {\n",
    "        'austen-persuasion.txt': [],\n",
    "        'austen-sense.txt': []\n",
    "    },\n",
    "    'chesterson': {\n",
    "        'chesterton-ball.txt': [],\n",
    "        'chesterton-brown.txt': [],\n",
    "        'chesterton-thursday.txt': []\n",
    "    },\n",
    "    'shakespeare': {\n",
    "        'shakespeare-caesar.txt': [],\n",
    "        'shakespeare-hamlet.txt': [],\n",
    "        'shakespeare-macbeth.txt': []\n",
    "    }\n",
    "}\n",
    "\n",
    "# for each author, grab each of their works, separated into sentences\n",
    "for author, works in all_works.items():\n",
    "    total_sents = 0\n",
    "    for work in works.keys():\n",
    "        raw = nltk.corpus.gutenberg.raw(work)\n",
    "        \n",
    "        # fix up text\n",
    "        text = raw.replace('.\"', '\".').replace('?\"', '\"?').replace('!\"', '\"!')\n",
    "        text = text.replace('--', ' ').replace('. . .', '').replace('_', '')\n",
    "        text = text.replace('\\n', ' ').replace('  ', ' ').replace('  ', ' ')\n",
    "\n",
    "        # tokenize into sentences\n",
    "        sents = nltk.tokenize.sent_tokenize(text)\n",
    "\n",
    "        # remove short sentences\n",
    "        sents = [sent for sent in sents if len(sent) > minimum_sentence_length]\n",
    "        all_works[author][work] = sents\n",
    "        total_sents += len(sents)\n",
    "        print(f'{work} has {len(sents)} sentences')\n",
    "    print(f'{author} has {total_sents} in the dataset')"
   ]
  },
  {
   "cell_type": "code",
   "execution_count": 36,
   "metadata": {},
   "outputs": [
    {
     "name": "stdout",
     "output_type": "stream",
     "text": [
      "[Emma by Jane Austen 1816] VOLUME I CHAPTER I Emma Woodhouse, handsome, clever, and rich, with a comfortable home and happy disposition, seemed to unite some of the best blessings of existence; and had lived nearly twenty-one years in the world with very little to distress or vex her.\n",
      "\n",
      "She was the youngest of the two daughters of a most affectionate, indulgent father; and had, in consequence of her sister's marriage, been mistress of his house from a very early period.\n",
      "\n",
      "Her mother had died too long ago for her to have more than an indistinct remembrance of her caresses; and her place had been supplied by an excellent woman as governess, who had fallen little short of a mother in affection.\n",
      "\n",
      "Sixteen years had Miss Taylor been in Mr. Woodhouse's family, less as a governess than a friend, very fond of both daughters, but particularly of Emma.\n",
      "\n",
      "Between them it was more the intimacy of sisters.\n",
      "\n"
     ]
    }
   ],
   "source": [
    "for i in range(5):\n",
    "    print(all_works['austen']['austen-emma.txt'][i])\n",
    "    print()"
   ]
  },
  {
   "cell_type": "code",
   "execution_count": null,
   "metadata": {},
   "outputs": [],
   "source": []
  }
 ],
 "metadata": {
  "interpreter": {
   "hash": "8051ed847aa687a68b092997ecd6fbe867b860eb040d9d588058fca0af342982"
  },
  "kernelspec": {
   "display_name": "Python 3.9.12 ('nlp')",
   "language": "python",
   "name": "python3"
  },
  "language_info": {
   "codemirror_mode": {
    "name": "ipython",
    "version": 3
   },
   "file_extension": ".py",
   "mimetype": "text/x-python",
   "name": "python",
   "nbconvert_exporter": "python",
   "pygments_lexer": "ipython3",
   "version": "3.9.12"
  },
  "orig_nbformat": 4
 },
 "nbformat": 4,
 "nbformat_minor": 2
}

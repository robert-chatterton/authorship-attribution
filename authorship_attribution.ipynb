{
 "cells": [
  {
   "cell_type": "markdown",
   "metadata": {},
   "source": [
    "# Robert Chatterton\n",
    "\n",
    "#### DS 4400 Machine Learning and Data Mining I Final Project\n",
    "\n",
    "<hr />\n",
    "\n",
    "## Authorship Attribution on Classical Works and More"
   ]
  },
  {
   "cell_type": "markdown",
   "metadata": {},
   "source": [
    "`Outline:`\n",
    "\n",
    "    - Clean and pull data\n",
    "        - Read in texts from NLTK\n",
    "        - Choose specific ones (5 authors?)\n",
    "\n",
    "    - Prepare data\n",
    "        - N-grams\n",
    "        - Bag of Words\n",
    "        - word2Vec? if I can\n",
    "\n",
    "    - Models:\n",
    "        - Logistic Regression\n",
    "        - Random Forest\n",
    "        - Naive Bayes\n",
    "        - NN (LSTM or Feed forward?)"
   ]
  },
  {
   "cell_type": "code",
   "execution_count": null,
   "metadata": {},
   "outputs": [],
   "source": [
    "# imports\n",
    "import numpy as np\n",
    "import nltk\n",
    "import matplotlib.pyplot as plt"
   ]
  },
  {
   "cell_type": "markdown",
   "metadata": {},
   "source": [
    "# Data Cleaning"
   ]
  },
  {
   "cell_type": "code",
   "execution_count": null,
   "metadata": {},
   "outputs": [
    {
     "ename": "",
     "evalue": "",
     "output_type": "error",
     "traceback": [
      "\u001b[1;31mRunning cells with 'Python 3.9.12 ('nlp')' requires ipykernel package.\n",
      "Run the following command to install 'ipykernel' into the Python environment. \n",
      "Command: 'conda install -n nlp ipykernel --update-deps --force-reinstall'"
     ]
    }
   ],
   "source": [
    "nltk.corpus.gutenberg.fileids()"
   ]
  },
  {
   "cell_type": "code",
   "execution_count": null,
   "metadata": {},
   "outputs": [],
   "source": []
  }
 ],
 "metadata": {
  "interpreter": {
   "hash": "8051ed847aa687a68b092997ecd6fbe867b860eb040d9d588058fca0af342982"
  },
  "kernelspec": {
   "display_name": "Python 3.9.12 ('nlp')",
   "language": "python",
   "name": "python3"
  },
  "language_info": {
   "name": "python",
   "version": "3.9.12"
  },
  "orig_nbformat": 4
 },
 "nbformat": 4,
 "nbformat_minor": 2
}

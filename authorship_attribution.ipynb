{
 "cells": [
  {
   "cell_type": "markdown",
   "metadata": {},
   "source": [
    "# Robert Chatterton\n",
    "\n",
    "#### DS 4400 Machine Learning and Data Mining I Final Project\n",
    "\n",
    "<hr />\n",
    "\n",
    "## Authorship Attribution on Classical Works and More"
   ]
  },
  {
   "cell_type": "markdown",
   "metadata": {},
   "source": [
    "`Outline:`\n",
    "\n",
    "    - Clean and pull data\n",
    "        - Read in texts from NLTK\n",
    "        - Choose specific ones (5 authors?)\n",
    "\n",
    "    - Prepare data\n",
    "        - N-grams\n",
    "        - Bag of Words\n",
    "        - word2Vec? if I can\n",
    "        - Get style\n",
    "            - sentence length\n",
    "            - word choice\n",
    "            - sentiment\n",
    "            \n",
    "\n",
    "    - Models:\n",
    "        - Logistic Regression\n",
    "        - Random Forest\n",
    "        - Naive Bayes\n",
    "        - NN (LSTM or Feed forward?)"
   ]
  },
  {
   "cell_type": "code",
   "execution_count": 19,
   "metadata": {},
   "outputs": [],
   "source": [
    "# cleaning imports\n",
    "import numpy as np\n",
    "import nltk\n",
    "import random\n",
    "import pandas as pd\n",
    "\n",
    "RANDOM_SEED = 3\n",
    "np.random.seed(RANDOM_SEED)\n",
    "random.seed(RANDOM_SEED)"
   ]
  },
  {
   "cell_type": "markdown",
   "metadata": {},
   "source": [
    "# Data Cleaning"
   ]
  },
  {
   "cell_type": "code",
   "execution_count": 3,
   "metadata": {},
   "outputs": [
    {
     "name": "stderr",
     "output_type": "stream",
     "text": [
      "[nltk_data] Downloading package gutenberg to /home/robbie/nltk_data...\n",
      "[nltk_data]   Package gutenberg is already up-to-date!\n",
      "[nltk_data] Downloading package punkt to /home/robbie/nltk_data...\n",
      "[nltk_data]   Package punkt is already up-to-date!\n"
     ]
    },
    {
     "data": {
      "text/plain": [
       "True"
      ]
     },
     "execution_count": 3,
     "metadata": {},
     "output_type": "execute_result"
    }
   ],
   "source": [
    "nltk.download('gutenberg')\n",
    "nltk.download('punkt')"
   ]
  },
  {
   "cell_type": "code",
   "execution_count": 11,
   "metadata": {},
   "outputs": [
    {
     "name": "stdout",
     "output_type": "stream",
     "text": [
      "austen-persuasion.txt has 3599 sentences\n",
      "austen-sense.txt has 5134 sentences\n",
      "chesterton-ball.txt has 4591 sentences\n",
      "chesterton-brown.txt has 3706 sentences\n",
      "chesterton-thursday.txt has 3554 sentences\n",
      "shakespeare-caesar.txt has 1423 sentences\n",
      "shakespeare-hamlet.txt has 2048 sentences\n",
      "shakespeare-macbeth.txt has 1284 sentences\n",
      "austen has 8733 sentences total\n",
      "chesterson has 11851 sentences total\n",
      "shakespeare has 4755 sentences total\n"
     ]
    }
   ],
   "source": [
    "minimum_sentence_length = 5\n",
    "\n",
    "def create_sentence_list(work):\n",
    "    raw = nltk.corpus.gutenberg.raw(work)\n",
    "    \n",
    "    # fix up text\n",
    "    text = raw.replace('.\"', '\".').replace('?\"', '\"?').replace('!\"', '\"!')\n",
    "    text = text.replace('--', ' ').replace('. . .', '').replace('_', '')\n",
    "    text = text.replace('\\n', ' ').replace('  ', ' ').replace('  ', ' ')\n",
    "\n",
    "    # tokenize into sentences\n",
    "    sents = nltk.tokenize.sent_tokenize(text)\n",
    "\n",
    "    # remove short sentences\n",
    "    sents = [sent for sent in sents if len(sent) > minimum_sentence_length]\n",
    "    print(f'{work} has {len(sents)} sentences')\n",
    "    return sents\n",
    "\n",
    "# authors and works to investigate\n",
    "austen = create_sentence_list('austen-persuasion.txt') + create_sentence_list('austen-sense.txt')\n",
    "chesterson = create_sentence_list('chesterton-ball.txt') + create_sentence_list('chesterton-brown.txt') + create_sentence_list('chesterton-thursday.txt')\n",
    "shakespeare = create_sentence_list('shakespeare-caesar.txt') + create_sentence_list('shakespeare-hamlet.txt') + create_sentence_list('shakespeare-macbeth.txt')\n",
    "\n",
    "works = {\n",
    "    'austen': austen, \n",
    "    'chesterson': chesterson, \n",
    "    'shakespeare': shakespeare\n",
    "}\n",
    "\n",
    "for a, w in works.items():\n",
    "    print(f'{a} has {len(w)} sentences total')"
   ]
  },
  {
   "cell_type": "markdown",
   "metadata": {},
   "source": [
    "Choose random sentences for training"
   ]
  },
  {
   "cell_type": "code",
   "execution_count": 18,
   "metadata": {},
   "outputs": [
    {
     "data": {
      "text/html": [
       "<div>\n",
       "<style scoped>\n",
       "    .dataframe tbody tr th:only-of-type {\n",
       "        vertical-align: middle;\n",
       "    }\n",
       "\n",
       "    .dataframe tbody tr th {\n",
       "        vertical-align: top;\n",
       "    }\n",
       "\n",
       "    .dataframe thead th {\n",
       "        text-align: right;\n",
       "    }\n",
       "</style>\n",
       "<table border=\"1\" class=\"dataframe\">\n",
       "  <thead>\n",
       "    <tr style=\"text-align: right;\">\n",
       "      <th></th>\n",
       "      <th>sentence</th>\n",
       "      <th>author</th>\n",
       "    </tr>\n",
       "  </thead>\n",
       "  <tbody>\n",
       "    <tr>\n",
       "      <th>0</th>\n",
       "      <td>Mr. Cumberland Vane laughed outright.</td>\n",
       "      <td>chesterson</td>\n",
       "    </tr>\n",
       "    <tr>\n",
       "      <th>1</th>\n",
       "      <td>\"Something very melancholy must be the matter,...</td>\n",
       "      <td>austen</td>\n",
       "    </tr>\n",
       "    <tr>\n",
       "      <th>2</th>\n",
       "      <td>You will tell Sir Walter what we have done, an...</td>\n",
       "      <td>austen</td>\n",
       "    </tr>\n",
       "    <tr>\n",
       "      <th>3</th>\n",
       "      <td>My Crowne, mine owne Ambition, and my Queene: ...</td>\n",
       "      <td>shakespeare</td>\n",
       "    </tr>\n",
       "    <tr>\n",
       "      <th>4</th>\n",
       "      <td>Is it not like the King?</td>\n",
       "      <td>shakespeare</td>\n",
       "    </tr>\n",
       "    <tr>\n",
       "      <th>...</th>\n",
       "      <td>...</td>\n",
       "      <td>...</td>\n",
       "    </tr>\n",
       "    <tr>\n",
       "      <th>13495</th>\n",
       "      <td>He had a violent run of a hundred yards to rea...</td>\n",
       "      <td>chesterson</td>\n",
       "    </tr>\n",
       "    <tr>\n",
       "      <th>13496</th>\n",
       "      <td>\"Marianne's note, by assuring me that I was st...</td>\n",
       "      <td>austen</td>\n",
       "    </tr>\n",
       "    <tr>\n",
       "      <th>13497</th>\n",
       "      <td>He put this carefully in his upper waistcoat p...</td>\n",
       "      <td>chesterson</td>\n",
       "    </tr>\n",
       "    <tr>\n",
       "      <th>13498</th>\n",
       "      <td>If he steale ought the whil'st this Play is Pl...</td>\n",
       "      <td>shakespeare</td>\n",
       "    </tr>\n",
       "    <tr>\n",
       "      <th>13499</th>\n",
       "      <td>I had left her only the evening before, so ful...</td>\n",
       "      <td>austen</td>\n",
       "    </tr>\n",
       "  </tbody>\n",
       "</table>\n",
       "<p>13500 rows × 2 columns</p>\n",
       "</div>"
      ],
      "text/plain": [
       "                                                sentence       author\n",
       "0                  Mr. Cumberland Vane laughed outright.   chesterson\n",
       "1      \"Something very melancholy must be the matter,...       austen\n",
       "2      You will tell Sir Walter what we have done, an...       austen\n",
       "3      My Crowne, mine owne Ambition, and my Queene: ...  shakespeare\n",
       "4                               Is it not like the King?  shakespeare\n",
       "...                                                  ...          ...\n",
       "13495  He had a violent run of a hundred yards to rea...   chesterson\n",
       "13496  \"Marianne's note, by assuring me that I was st...       austen\n",
       "13497  He put this carefully in his upper waistcoat p...   chesterson\n",
       "13498  If he steale ought the whil'st this Play is Pl...  shakespeare\n",
       "13499  I had left her only the evening before, so ful...       austen\n",
       "\n",
       "[13500 rows x 2 columns]"
      ]
     },
     "execution_count": 18,
     "metadata": {},
     "output_type": "execute_result"
    }
   ],
   "source": [
    "# slightly lower than least amount of sentences of any author\n",
    "to_choose = 4500\n",
    "sentences = []\n",
    "sentence_labels = []\n",
    "\n",
    "for author, sents in works.items():\n",
    "    chosen = np.random.choice(sents, to_choose, replace=False)\n",
    "    sentences += list(chosen)\n",
    "    sentence_labels += [author] * to_choose\n",
    "\n",
    "# shuffle list randomly\n",
    "Xy = list(zip(sentences, sentence_labels))\n",
    "random.shuffle(Xy)\n",
    "X, y = zip(*Xy)\n",
    "\n",
    "df = pd.DataFrame()\n",
    "df['sentence'] = X\n",
    "df['author'] = y\n",
    "df"
   ]
  },
  {
   "cell_type": "markdown",
   "metadata": {},
   "source": [
    "# Prepare Data"
   ]
  },
  {
   "cell_type": "code",
   "execution_count": null,
   "metadata": {},
   "outputs": [],
   "source": []
  }
 ],
 "metadata": {
  "interpreter": {
   "hash": "8051ed847aa687a68b092997ecd6fbe867b860eb040d9d588058fca0af342982"
  },
  "kernelspec": {
   "display_name": "Python 3.9.12 ('nlp')",
   "language": "python",
   "name": "python3"
  },
  "language_info": {
   "codemirror_mode": {
    "name": "ipython",
    "version": 3
   },
   "file_extension": ".py",
   "mimetype": "text/x-python",
   "name": "python",
   "nbconvert_exporter": "python",
   "pygments_lexer": "ipython3",
   "version": "3.9.12"
  },
  "orig_nbformat": 4
 },
 "nbformat": 4,
 "nbformat_minor": 2
}
